{
  "nbformat": 4,
  "nbformat_minor": 0,
  "metadata": {
    "colab": {
      "provenance": []
    },
    "kernelspec": {
      "name": "python3",
      "display_name": "Python 3"
    },
    "language_info": {
      "name": "python"
    }
  },
  "cells": [
    {
      "cell_type": "markdown",
      "metadata": {
        "id": "ERxDpM_7sUV4"
      },
      "source": [
        "### Exercises\n",
        "\n",
        "1\\. Briefly describe in writing how kNN algorithm works\n",
        "\n",
        "2\\. Describe how to deal with ties when more then one class appear in the neighborhood with identical frequencies.\n",
        "\n",
        "3\\. Describe in writing how a number of neighbors $k$ influences the kNN model."
      ]
    },
    {
      "cell_type": "markdown",
      "source": [
        "Алгоритм сохраняет все доступные помеченные точки данных в наборе обучающих данных. Далее решается задача классификации: для каждой новой точки данных алгоритм вычисляет расстояние (евклидово в N-мерном пространстве, как это было в задачах секции 9) до всех точек в наборе.\n",
        "Затем он определяет k ближайших точек к новой точке на основе вычисленных расстояний. Алгоритм определяет класс большинства среди этих k соседей и назначает этот класс новой точке данных в качестве ее прогнозируемого класса. Выбор k (количества рассматриваемых соседей) влияет на производительность модели. Более низкое значение k может привести к переобучению, а более высокое значение k может привести к тому, что модель будет игнорировать закономерности.\n",
        "Если внутри одной окрестности сразу несколько классов имеют одинаковые частоты, есть несколько вариантов решения этой проблемы: можно позворить \"выиграть\" самому простому соседу (этот подход предполагает предоставление приоритета конкретному классу, что позволяет ближайшему соседу разорвать связь), либо можно присвоить соседям численные веса, принимающие значения в зависимости от расстояния.\n",
        "\n"
      ],
      "metadata": {
        "id": "du1YiYc-zEQU"
      }
    },
    {
      "cell_type": "markdown",
      "metadata": {
        "id": "C_8cziN6sUWH"
      },
      "source": [
        "### Exercises\n",
        "\n",
        "4\\. Describe in writing how the confusion matrix is computed in multi-class classification\n",
        "\n",
        "\n",
        "7\\. Download dataset from file \"point-clouds-3.csv\" that can be found in the repository \"https://raw.githubusercontent.com/kupav/data-sc-intro/main/data/\". This file contains labeled data. Inspect the data and find the size of the dataset, number of classes, number of instances of each class. Is this dataset well balanced? Using scikit-learn library, create kNN classifier for it. Evaluate the model using an appropriate metrics. Try different $k$, find the best one. Compute the final score for your model.\n",
        "\n",
        "8\\. Download dataset from file \"point-clouds-4.csv\" that can be found in the repository \"https://raw.githubusercontent.com/kupav/data-sc-intro/main/data/\". This file contains two-column data. Create a scatter plot for it. Then create a kNN regression model for this data using different $k$. What do you think, why the models do not work properly? What can be done with the data to create better regression models?"
      ]
    },
    {
      "cell_type": "markdown",
      "source": [
        "4. Пусть в задаче классификации имеется N классов. Confusion matrix представляет собой матрицу размера N x N, где каждая строка представляет экземпляры фактического класса, а каждый столбец представляет экземпляры прогнозируемого класса. Чтобы заполнить матрицу, каждая точка данных в тестовом наборе классифицируется, далее записывается количество правильных и неправильных классификаций для каждого класса. Для данного i-го класса:\n",
        "диагональный элемент (i, i) матрицы представляет количество экземпляров класса i, которые были правильно классифицированы.\n",
        "Недиагональные элементы (i, j), где j не равно i, представляют экземпляры класса i, которые были классифицированы как класс j."
      ],
      "metadata": {
        "id": "M098_Cgy3-R3"
      }
    },
    {
      "cell_type": "code",
      "source": [
        "import csv\n",
        "import requests\n",
        "import numpy as np\n",
        "from sklearn.model_selection import train_test_split\n",
        "from sklearn.neighbors import KNeighborsClassifier\n",
        "from sklearn.metrics import accuracy_score, classification_report\n",
        "\n",
        "\n",
        "def load_csv_dataset(file_name, dtype=float):\n",
        "    base_url = \"https://raw.githubusercontent.com/kupav/data-sc-intro/main/data/\"\n",
        "    web_data = requests.get(base_url + file_name)\n",
        "    assert web_data.status_code == 200\n",
        "\n",
        "    reader = csv.reader(web_data.text.splitlines(), delimiter=',')\n",
        "    data = []\n",
        "    for row in reader:\n",
        "        try:\n",
        "            # Try to parse as a row of floats\n",
        "            float_row = [dtype(x) for x in row]\n",
        "            data.append(float_row)\n",
        "        except ValueError:\n",
        "            data.append(row)\n",
        "\n",
        "    return data\n",
        "\n",
        "\n",
        "data = load_csv_dataset('point-clouds-3.csv')\n",
        "features = [row[:-1] for row in data[1:]]\n",
        "labels = [row[-1] for row in data[1:]]\n",
        "\n",
        "X = np.array(features, dtype=float)\n",
        "y = np.array(labels)\n",
        "\n",
        "num_instances = len(X)\n",
        "num_classes = len(np.unique(y))\n",
        "class_counts = {label: list(y).count(label) for label in np.unique(y)}\n",
        "\n",
        "print(f'Size of the dataset: {num_instances}')\n",
        "print(f'Number of classes: {num_classes}')\n",
        "print(f'Number of instances of each class: {class_counts}')\n",
        "\n",
        "class_counts_values = list(class_counts.values())\n",
        "is_balanced = all(count == class_counts_values[0] for count in class_counts_values)\n",
        "\n",
        "print('The dataset is well balanced.' if is_balanced else 'The dataset is not well balanced.')\n",
        "\n",
        "X_train, X_test, y_train, y_test = train_test_split(X, y, test_size=0.2, random_state=42)\n",
        "\n",
        "k_values = range(1, 100)\n",
        "best_accuracy, best_k = 0, 0\n",
        "\n",
        "for k in k_values:\n",
        "    knn = KNeighborsClassifier(n_neighbors=k)\n",
        "    knn.fit(X_train, y_train)\n",
        "    y_pred = knn.predict(X_test)\n",
        "    accuracy = accuracy_score(y_test, y_pred)\n",
        "\n",
        "    if accuracy > best_accuracy:\n",
        "        best_accuracy = accuracy\n",
        "        best_k = k\n",
        "\n",
        "print(f'Best k value: {best_k}, Best Accuracy: {best_accuracy}')\n",
        "\n",
        "knn_best = KNeighborsClassifier(n_neighbors=best_k)\n",
        "knn_best.fit(X_train, y_train)\n",
        "y_pred_best = knn_best.predict(X_test)\n",
        "print(classification_report(y_test, y_pred_best))\n",
        "\n",
        "final_score = accuracy_score(y_test, y_pred_best)\n",
        "print(f\"Final Score for the model: {final_score}\")"
      ],
      "metadata": {
        "colab": {
          "base_uri": "https://localhost:8080/"
        },
        "id": "HR0Pi1_w4sqB",
        "outputId": "233e337d-38b4-4f84-e88e-5a35d01a1351"
      },
      "execution_count": 39,
      "outputs": [
        {
          "output_type": "stream",
          "name": "stdout",
          "text": [
            "Size of the dataset: 200\n",
            "Number of classes: 2\n",
            "Number of instances of each class: {0.0: 150, 1.0: 50}\n",
            "The dataset is not well balanced.\n",
            "Best k value: 1, Best Accuracy: 0.925\n",
            "              precision    recall  f1-score   support\n",
            "\n",
            "         0.0       0.91      1.00      0.95        30\n",
            "         1.0       1.00      0.70      0.82        10\n",
            "\n",
            "    accuracy                           0.93        40\n",
            "   macro avg       0.95      0.85      0.89        40\n",
            "weighted avg       0.93      0.93      0.92        40\n",
            "\n",
            "Final Score for the model: 0.925\n"
          ]
        }
      ]
    },
    {
      "cell_type": "code",
      "source": [
        "import csv\n",
        "import requests\n",
        "import numpy as np\n",
        "import matplotlib.pyplot as plt\n",
        "from sklearn.model_selection import train_test_split\n",
        "from sklearn.neighbors import KNeighborsClassifier, KNeighborsRegressor\n",
        "from sklearn.metrics import mean_squared_error\n",
        "\n",
        "\n",
        "def load_csv_dataset(file_name, dtype=float):\n",
        "    base_url = \"https://raw.githubusercontent.com/kupav/data-sc-intro/main/data/\"\n",
        "    web_data = requests.get(base_url + file_name)\n",
        "    assert web_data.status_code == 200\n",
        "\n",
        "    reader = csv.reader(web_data.text.splitlines(), delimiter=',')\n",
        "    data = []\n",
        "    for row in reader:\n",
        "        try:\n",
        "            # Try to parse as a row of floats\n",
        "            float_row = [dtype(x) for x in row]\n",
        "            data.append(float_row)\n",
        "        except ValueError:\n",
        "            data.append(row)\n",
        "\n",
        "    return data\n",
        "\n",
        "\n",
        "data = load_csv_dataset('point-clouds-4.csv')\n",
        "features = [row for row in data[1:]]\n",
        "X = np.array(features)[:, 0]\n",
        "y = np.array(features)[:, 1]\n",
        "fig = plt.figure()\n",
        "ax = fig.add_subplot(111)\n",
        "ax.scatter(X, y, s=20, color='#499500', alpha=0.87, marker='*')\n",
        "ax.set_xlabel('1-st feature', fontsize=10)\n",
        "ax.set_ylabel('2-nd feature', fontsize=10)\n",
        "ax.set_title('Cute circle')\n",
        "plt.show()\n",
        "\n",
        "X = X.reshape(-1, 1)\n",
        "X_train, X_test, y_train, y_test = train_test_split(X, y, test_size=0.2, random_state=42)\n",
        "\n",
        "k_values = range(3, 20, 2)\n",
        "\n",
        "for k in k_values:\n",
        "    knn = KNeighborsRegressor(n_neighbors=k)\n",
        "    knn.fit(X_train, y_train)\n",
        "    y_pred = knn.predict(X_test)\n",
        "    mse = mean_squared_error(y_test, y_pred)\n",
        "    print(f'k = {k}, MSE = {np.round(mse, 4)}')\n",
        "\n",
        "print('\\nOutliers can significantly influence the performance of kNN regression models, impacting the smoothness of the regression curve.')\n",
        "print('On the other hand, if the features don’t have a meaningful relationship with the target variable, the model may struggle to capture the underlying patterns effectively.')\n",
        "print('\\nBut I think the main problem here is distances on the circle, since kNN relies on distance metrics.')\n",
        "print('It looks like more points are needed to improve the model.')"
      ],
      "metadata": {
        "colab": {
          "base_uri": "https://localhost:8080/",
          "height": 732
        },
        "id": "RBUN9vksYmsn",
        "outputId": "12116451-2471-4017-babc-2730cb809b39"
      },
      "execution_count": 75,
      "outputs": [
        {
          "output_type": "display_data",
          "data": {
            "text/plain": [
              "<Figure size 640x480 with 1 Axes>"
            ],
            "image/png": "[encoded data removed]"
          },
          "metadata": {}
        },
        {
          "output_type": "stream",
          "name": "stdout",
          "text": [
            "k = 3, MSE = 0.5681\n",
            "k = 5, MSE = 0.5203\n",
            "k = 7, MSE = 0.572\n",
            "k = 9, MSE = 0.5017\n",
            "k = 11, MSE = 0.4711\n",
            "k = 13, MSE = 0.481\n",
            "k = 15, MSE = 0.4656\n",
            "k = 17, MSE = 0.4846\n",
            "k = 19, MSE = 0.5122\n",
            "\n",
            "Outliers can significantly influence the performance of kNN regression models, impacting the smoothness of the regression curve.\n",
            "On the other hand, if the features don’t have a meaningful relationship with the target variable, the model may struggle to capture the underlying patterns effectively.\n",
            "\n",
            "But I think the main problem here is distances on the circle, since kNN relies on distance metrics.\n",
            "It looks like more points are needed to improve the model.\n"
          ]
        }
      ]
    }
  ]
}