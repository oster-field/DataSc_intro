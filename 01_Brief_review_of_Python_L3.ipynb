{
  "nbformat": 4,
  "nbformat_minor": 0,
  "metadata": {
    "colab": {
      "provenance": []
    },
    "kernelspec": {
      "name": "python3",
      "display_name": "Python 3"
    },
    "language_info": {
      "name": "python"
    }
  },
  "cells": [
    {
      "cell_type": "markdown",
      "metadata": {
        "id": "9wKY1YkbDIIq"
      },
      "source": [
        "1\\. Write a program that creates a NumPy array containing 20 zeros, then reshape it to get a two-dimensional array with 5 rows and 4 columns. Print this array. Now assign to its middle area 1 to obtain an array whose the first and the last rows as well as the first and the last columns contain 0 and all others are 1. Print this array."
      ]
    },
    {
      "cell_type": "code",
      "execution_count": 1,
      "metadata": {
        "colab": {
          "base_uri": "https://localhost:8080/"
        },
        "id": "ZIEAsO5LDcNm",
        "outputId": "712ec5a6-5f5e-491c-fe3f-07fb5b468d89"
      },
      "outputs": [
        {
          "output_type": "stream",
          "name": "stdout",
          "text": [
            "[[0. 0. 0. 0.]\n",
            " [0. 0. 0. 0.]\n",
            " [0. 0. 0. 0.]\n",
            " [0. 0. 0. 0.]\n",
            " [0. 0. 0. 0.]]\n",
            "[[0. 0. 0. 0.]\n",
            " [0. 1. 1. 0.]\n",
            " [0. 1. 1. 0.]\n",
            " [0. 1. 1. 0.]\n",
            " [0. 0. 0. 0.]]\n"
          ]
        }
      ],
      "source": [
        "import numpy as np\n",
        "\n",
        "array1d = np.zeros(20)\n",
        "array2d = array1d.reshape(5, 4)\n",
        "print(array2d)\n",
        "array2d[1:-1, 1:-1] = 1\n",
        "print(array2d)"
      ]
    },
    {
      "cell_type": "markdown",
      "metadata": {
        "id": "I0qPDv5gDIIq"
      },
      "source": [
        "2\\. Write a program that creates a NumPy array $x$ containing 11 equally spaced values from 0 to $2\\pi$. Now compute two new arrays: $s=\\sin x$ and $c=\\cos x$. Finally compute and print the result of expression $s^2 + c^2$"
      ]
    },
    {
      "cell_type": "code",
      "source": [
        "import numpy as np\n",
        "\n",
        "x = np.linspace(0, 2*np.pi, 11)\n",
        "s = np.sin(x)\n",
        "c = np.cos(x)\n",
        "result = s**2 + c**2\n",
        "print(result)"
      ],
      "metadata": {
        "colab": {
          "base_uri": "https://localhost:8080/"
        },
        "id": "yTpqjF79D3K1",
        "outputId": "a0354a5c-4351-403e-d4c5-5eacce3c28cc"
      },
      "execution_count": 5,
      "outputs": [
        {
          "output_type": "stream",
          "name": "stdout",
          "text": [
            "[1. 1. 1. 1. 1. 1. 1. 1. 1. 1. 1.]\n"
          ]
        }
      ]
    },
    {
      "cell_type": "markdown",
      "metadata": {
        "id": "vsWySVZCDIIr"
      },
      "source": [
        "3\\. Create a program that reads president heights form a file `presidents.csv` and store them into a NumPy array. Read only heights, without names. Then compute and print the smallest, the biggest and the mean height."
      ]
    },
    {
      "cell_type": "code",
      "source": [
        "file_name = \"presidents.csv\"\n",
        "\n",
        "txt = ['Garfield, 183', 'Obama, 185', 'Bush, 182', 'Reagan, 185', 'Kennedy, 185', 'Grant, 173', 'Taft, 182', 'Johnson, 192', 'Coolidge, 178', 'Arthur, 188', 'Bush, 188', 'Wilson, 180', 'Monroe, 183', 'Buchanan, 183', 'Roosevelt, 188', 'Johnson, 178', 'Cleveland, 180', 'Jackson, 185', 'McKinley, 170', 'Harrison, 168', 'Polk, 173', 'Taylor, 173', 'Truman, 175', 'Harding, 183', 'Buren, 168', 'Ford, 183', 'Clinton, 188', 'Carter, 177', 'Q_Adams, 171', 'Trump, 191', 'Jefferson, 189', 'Nixon, 182', 'Pierce, 178', 'Washington, 188', 'Lincoln, 193', 'Madison, 163', 'Hoover, 182', 'Roosevelt, 178', 'Adams, 170', 'Tyler, 183', 'Fillmore, 175', 'Harrison, 173', 'Hayes, 174', 'Eisenhower, 179']\n",
        "with open(file_name, \"w\") as f:\n",
        "    for s in txt:\n",
        "        f.write(s + '\\n')\n",
        "\n",
        "import numpy as np\n",
        "\n",
        "heights = np.arange(0)\n",
        "with open(file_name, \"r\") as f:\n",
        "  for line in f:\n",
        "        data = line.strip().split(',')\n",
        "        heights = np.append(heights, int(data[1]))\n",
        "print(f'The smallest height: {np.min(heights)}')\n",
        "print(f'The biggest height: {np.max(heights)}')\n",
        "print(f'The mean height: {np.round(np.mean(heights), 1)}')"
      ],
      "metadata": {
        "colab": {
          "base_uri": "https://localhost:8080/"
        },
        "id": "ApbvHlXkE8iT",
        "outputId": "65abb6ef-2acb-4e70-f8f9-032879c01ae1"
      },
      "execution_count": 63,
      "outputs": [
        {
          "output_type": "stream",
          "name": "stdout",
          "text": [
            "The smallest height: 163\n",
            "The biggest height: 193\n",
            "The mean height: 180.1\n"
          ]
        }
      ]
    },
    {
      "cell_type": "markdown",
      "metadata": {
        "id": "V7hLaUcMDIIr"
      },
      "source": [
        "4\\. Create a program that reads both president heights and names. Collect names in a list, do not use a NumPy array for them. Then compute the smallest, the biggest and median heights and print them with the corresponding names.\n",
        "\n",
        "_Hint. Median is the value in the middle of a sorted array._"
      ]
    },
    {
      "cell_type": "code",
      "source": [
        "file_name = \"presidents.csv\"\n",
        "\n",
        "txt = ['Garfield, 183', 'Obama, 185', 'Bush, 182', 'Reagan, 185', 'Kennedy, 185', 'Grant, 173', 'Taft, 182', 'Johnson, 192', 'Coolidge, 178', 'Arthur, 188', 'Bush, 188', 'Wilson, 180', 'Monroe, 183', 'Buchanan, 183', 'Roosevelt, 188', 'Johnson, 178', 'Cleveland, 180', 'Jackson, 185', 'McKinley, 170', 'Harrison, 168', 'Polk, 173', 'Taylor, 173', 'Truman, 175', 'Harding, 183', 'Buren, 168', 'Ford, 183', 'Clinton, 188', 'Carter, 177', 'Q_Adams, 171', 'Trump, 191', 'Jefferson, 189', 'Nixon, 182', 'Pierce, 178', 'Washington, 188', 'Lincoln, 193', 'Madison, 163', 'Hoover, 182', 'Roosevelt, 178', 'Adams, 170', 'Tyler, 183', 'Fillmore, 175', 'Harrison, 173', 'Hayes, 174', 'Eisenhower, 179']\n",
        "with open(file_name, \"w\") as f:\n",
        "    for s in txt:\n",
        "        f.write(s + '\\n')\n",
        "\n",
        "import numpy as np\n",
        "\n",
        "names = []\n",
        "heights = np.arange(0)\n",
        "with open(file_name, \"r\") as f:\n",
        "  for line in f:\n",
        "        data = line.strip().split(',')\n",
        "        names.append(data[0])\n",
        "        heights = np.append(heights, int(data[1]))\n",
        "print(f'The smallest president: {names[np.argmin(heights)]}, his hight is {np.min(heights)}.')\n",
        "print(f'The biggest president: {names[np.argmax(heights)]}, his hight is {np.max(heights)}.')\n",
        "sorted_heights = np.sort(heights)\n",
        "# On an array with an even length, the median is not uniquely determined\n",
        "if len(heights) % 2 != 0:\n",
        "  median = int(sorted_heights[int(len(sorted_heights) / 2)])\n",
        "else:\n",
        "  median = int((sorted_heights[int(len(sorted_heights) / 2)] + sorted_heights[int(len(sorted_heights) / 2 + 1)]) / 2)\n",
        "indexes = np.where(heights == median)[0]\n",
        "print(f'Presidensts with median height (that is {median}):', end=' ')\n",
        "for index in indexes:\n",
        "  if index == indexes[-1]:\n",
        "    print(names[index], end='. ')\n",
        "  else:\n",
        "    print(names[index], end=', ')\n",
        "\n"
      ],
      "metadata": {
        "colab": {
          "base_uri": "https://localhost:8080/"
        },
        "id": "wS0cqSoGHceb",
        "outputId": "87b84860-c703-41ab-bef0-3a6b76dbea37"
      },
      "execution_count": 42,
      "outputs": [
        {
          "output_type": "stream",
          "name": "stdout",
          "text": [
            "The smallest president: Madison, his hight is 163.\n",
            "The biggest president: Lincoln, his hight is 193.\n",
            "Presidensts with median height (that is 182): Bush, Taft, Nixon, Hoover. "
          ]
        }
      ]
    },
    {
      "cell_type": "markdown",
      "metadata": {
        "id": "z7OvPzCZDIIr"
      },
      "source": [
        "5\\. First run the above section to get a file \"sleep.csv\". This file contains three columns: sex, country and sleeping time. Create a program that reads this file converting the sleeping time from 'hh:mm' format to an integer numbers of minutes. Now print the answers to the following questions: What are the largest and the smallest sleeping time for males and females? In which country people sleep more? What is the average sleeping time?"
      ]
    },
    {
      "cell_type": "code",
      "source": [
        "file_name = \"sleep.csv\"\n",
        "\n",
        "txt = [\"Males, Belgium, 8:15\",\"Males, Bulgaria, 9:08\",\"Males, Germany, 8:08\",\"Males, Estonia, 8:24\",\"Males, Spain, 8:36\",\"Males, France, 8:45\",\"Males, Italy, 8:17\",\"Males, Latvia, 8:35\",\"Males, Lithuania, 8:28\",\"Males, Poland, 8:21\",\"Males, Slovenia, 8:18\",\"Males, Finland, 8:22\",\"Males, United Kingdom, 8:18\",\"Males, Norway, 7:56\",\"Females, Belgium, 8:34\",\"Females, Bulgaria, 9:07\",\"Females, Germany, 8:15\",\"Females, Estonia, 8:26\",\"Females, Spain, 8:32\",\"Females, France, 8:55\",\"Females, Italy, 8:19\",\"Females, Latvia, 8:44\",\"Females, Lithuania, 8:35\",\"Females, Poland, 8:35\",\"Females, Slovenia, 8:25\",\"Females, Finland, 8:32\",\"Females, United Kingdom, 8:27\",\"Females, Norway, 8:10\"]\n",
        "with open(file_name, \"w\") as f:\n",
        "    for s in txt:\n",
        "        f.write(s + '\\n')\n",
        "\n",
        "import numpy as np\n",
        "\n",
        "sex = []\n",
        "country = []\n",
        "time = np.arange(0, dtype=int)\n",
        "with open(file_name, \"r\") as f:\n",
        "  for line in f:\n",
        "        data = line.strip().split(',')\n",
        "        sex.append(data[0])\n",
        "        country.append(data[1])\n",
        "        time = np.append(time, int(data[2].split(':')[0]) * 60 + int(data[2].split(':')[1]))\n",
        "print(f'Average sleeping time: {int(np.mean(time) // 60)} h {int(np.mean(time) % 60)} m')\n",
        "males = np.arange(0)\n",
        "females = np.arange(0)\n",
        "for i in range(len(sex)):\n",
        "  if sex[i] == 'Males':\n",
        "    males = np.append(males, time[i])\n",
        "  elif sex[i] == 'Females':\n",
        "    females = np.append(females, time[i])\n",
        "print(f'Largest sleeping time for males: {np.max(males) // 60} h {np.max(males) % 60} m')\n",
        "print(f'Smallest sleeping time for males: {np.min(males) // 60} h {np.min(males) % 60} m')\n",
        "print(f'Largest sleeping time for females: {np.max(females) // 60} h {np.max(females) % 60} m')\n",
        "print(f'Smallest sleeping time for females: {np.min(females) // 60} h {np.min(females) % 60} m')\n",
        "countries = list(set(country))\n",
        "arr = np.zeros(len(countries) * 2).reshape(len(countries), 2)\n",
        "for i in range(len(country)):\n",
        "  for j in range(len(countries)):\n",
        "    if country[i] == countries[j]:\n",
        "      arr[j, 0] += time[i]\n",
        "      arr[j, 1] += 1\n",
        "mean_time = arr[:, 0] / arr[:, 1]\n",
        "print(f'People sleep more in {countries[np.argmax(mean_time)]}: mean sleep time is {np.max(mean_time) // 60} h {np.max(mean_time) % 60} m')\n"
      ],
      "metadata": {
        "colab": {
          "base_uri": "https://localhost:8080/"
        },
        "id": "SHds1pVmRsm0",
        "outputId": "049fd789-5959-4a44-ffe1-a62edce8bc75"
      },
      "execution_count": 74,
      "outputs": [
        {
          "output_type": "stream",
          "name": "stdout",
          "text": [
            "Average sleeping time: 8 h 28 m\n",
            "Largest sleeping time for males: 9 h 8 m\n",
            "Smallest sleeping time for males: 7 h 56 m\n",
            "Largest sleeping time for females: 9 h 7 m\n",
            "Smallest sleeping time for females: 8 h 10 m\n",
            "People sleep more in  Bulgaria: mean sleep time is 9.0 h 7.5 m\n"
          ]
        }
      ]
    }
  ]
}