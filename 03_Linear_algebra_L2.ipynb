{
  "nbformat": 4,
  "nbformat_minor": 0,
  "metadata": {
    "colab": {
      "provenance": []
    },
    "kernelspec": {
      "name": "python3",
      "display_name": "Python 3"
    },
    "language_info": {
      "name": "python"
    }
  },
  "cells": [
    {
      "cell_type": "markdown",
      "metadata": {
        "id": "Xy49B4UzMXYQ"
      },
      "source": [
        "1\\. Create a function that computes a matrix trace: $\\textrm{Tr} A$."
      ]
    },
    {
      "cell_type": "code",
      "execution_count": 37,
      "metadata": {
        "colab": {
          "base_uri": "https://localhost:8080/"
        },
        "id": "66V7pEQEoW-o",
        "outputId": "9fae0e31-ce5b-4125-f210-29027cd74be2"
      },
      "outputs": [
        {
          "output_type": "stream",
          "name": "stdout",
          "text": [
            "Trace of matrix: 3.0\n"
          ]
        }
      ],
      "source": [
        "import numpy as np\n",
        "\n",
        "\n",
        "def tr(A):\n",
        "  res = 0\n",
        "  for i in range(len(A[0])):\n",
        "    res += A[i, i]\n",
        "  return res\n",
        "\n",
        "\n",
        "matrix = np.array([[1, 456489, 231658], [3213546, 1, 897564], [231354, 479845, 1]], dtype=float)\n",
        "print(f'Trace of matrix: {tr(matrix)}')"
      ]
    },
    {
      "cell_type": "markdown",
      "metadata": {
        "id": "cWuUmkSzMXYQ"
      },
      "source": [
        "2\\. Create functions that perform matrix - matrix addition and subtraction: $C = A \\pm B$."
      ]
    },
    {
      "cell_type": "code",
      "source": [
        "import numpy as np\n",
        "\n",
        "\n",
        "def sum(A, B, sign):\n",
        "  res = np.zeros((len(A), len(A)))\n",
        "  for i in range(len(A[0])):\n",
        "         for j in range(len(A[0])):\n",
        "                  if sign == '+':\n",
        "                    res[i][j] = A[i][j] + B[i][j]\n",
        "                  elif sign == '-':\n",
        "                    res[i][j] = A[i][j] - B[i][j]\n",
        "  return res\n",
        "\n",
        "\n",
        "matrix1 = np.array([[1, 2, 3], [4, 5, 6], [7, 8, 9]], dtype=float)\n",
        "matrix2 = np.ones((3, 3)) * 10\n",
        "print(f'Summ: \\n {sum(matrix1, matrix2, \"-\")}')"
      ],
      "metadata": {
        "colab": {
          "base_uri": "https://localhost:8080/"
        },
        "id": "mzN8hxKUqin6",
        "outputId": "f6274bc6-6c1c-421f-e836-d4f44901f4e7"
      },
      "execution_count": 36,
      "outputs": [
        {
          "output_type": "stream",
          "name": "stdout",
          "text": [
            "Summ: \n",
            " [[-9. -8. -7.]\n",
            " [-6. -5. -4.]\n",
            " [-3. -2. -1.]]\n"
          ]
        }
      ]
    },
    {
      "cell_type": "markdown",
      "metadata": {
        "id": "nVIJBA-YMXYR"
      },
      "source": [
        "3\\. Create a function that performs left vector - matrix multiplication: $\\vec x A = \\vec y$."
      ]
    },
    {
      "cell_type": "code",
      "source": [
        "import numpy as np\n",
        "\n",
        "\n",
        "def left_vector_matrix_multiplication(vector, matrix):\n",
        "    result = np.zeros(len(vector))\n",
        "    for i in range(len(vector)):\n",
        "        for j in range(len(vector)):\n",
        "            result[i] += vector[j] * matrix[j][i]\n",
        "    return result\n",
        "\n",
        "\n",
        "vector = np.array([1, 2, 3], dtype=float)\n",
        "matrix = np.array([[1, 2, 3], [4, 5, 6], [7, 8, 9]], dtype=float)\n",
        "result = left_vector_matrix_multiplication(vector, matrix)\n",
        "print(f'Left vector multiplication: {result}')\n",
        "print(np.dot(vector, matrix)) #  For insurance"
      ],
      "metadata": {
        "colab": {
          "base_uri": "https://localhost:8080/"
        },
        "id": "eJloFOjru2G2",
        "outputId": "9a364644-63ed-4834-a1b0-26b709a6ef26"
      },
      "execution_count": 38,
      "outputs": [
        {
          "output_type": "stream",
          "name": "stdout",
          "text": [
            "Left vector multiplication: [30. 36. 42.]\n",
            "[30. 36. 42.]\n"
          ]
        }
      ]
    },
    {
      "cell_type": "markdown",
      "metadata": {
        "id": "nUkdOgH8MXYR"
      },
      "source": [
        "4\\. Create a function that performs multiplication of a matrix by a scalar: $B = c A$."
      ]
    },
    {
      "cell_type": "code",
      "source": [
        "import numpy as np\n",
        "\n",
        "\n",
        "def multiply(A, c):\n",
        "  for i in range(len(A[0])):\n",
        "    for j in range(len(A[0])):\n",
        "      A[i][j] *= c\n",
        "  return A\n",
        "\n",
        "\n",
        "matrix = np.array([[1, 2, 3], [4, 5, 6], [7, 8, 9]], dtype=float)\n",
        "const = 0.5\n",
        "print(f'Multiplication: \\n {multiply(matrix, const)}')"
      ],
      "metadata": {
        "colab": {
          "base_uri": "https://localhost:8080/"
        },
        "id": "BESNYPKxzCDn",
        "outputId": "a57be762-cc27-4d3f-8e7d-ab0feae1fcad"
      },
      "execution_count": 33,
      "outputs": [
        {
          "output_type": "stream",
          "name": "stdout",
          "text": [
            "Multiplication: \n",
            " [[0.5 1.  1.5]\n",
            " [2.  2.5 3. ]\n",
            " [3.5 4.  4.5]]\n"
          ]
        }
      ]
    },
    {
      "cell_type": "markdown",
      "metadata": {
        "id": "Rgpfd-EfMXYR"
      },
      "source": [
        "5\\. Create a function that performs matrix - matrix multiplication: $C = A B$"
      ]
    },
    {
      "cell_type": "code",
      "source": [
        "import numpy as np\n",
        "\n",
        "\n",
        "def matrix_multiply(matrix1, matrix2):\n",
        "    m = len(matrix1)\n",
        "    n = len(matrix1[0])\n",
        "    p = len(matrix2[0])\n",
        "    result = np.zeros((p, m))\n",
        "    for i in range(m):\n",
        "        for j in range(p):\n",
        "            for k in range(n):\n",
        "                result[i][j] += matrix1[i][k] * matrix2[k][j]\n",
        "    return result\n",
        "\n",
        "\n",
        "matrix1 = np.array([[1, 2, 3], [4, 5, 6], [7, 8, 9]])\n",
        "matrix2 = np.array([[1, 3, 5], [7, 9, 11], [13, 17, 19]])\n",
        "\n",
        "result = matrix_multiply(matrix1, matrix2)\n",
        "print(f'Multiplication: \\n {matrix_multiply(matrix1, matrix2)}')"
      ],
      "metadata": {
        "colab": {
          "base_uri": "https://localhost:8080/"
        },
        "id": "flP8UcTi0r8L",
        "outputId": "7138d661-c6a8-4432-a13c-fe47369fcbab"
      },
      "execution_count": 47,
      "outputs": [
        {
          "output_type": "stream",
          "name": "stdout",
          "text": [
            "Multiplication: \n",
            " [[ 54.  72.  84.]\n",
            " [117. 159. 189.]\n",
            " [180. 246. 294.]]\n"
          ]
        }
      ]
    },
    {
      "cell_type": "markdown",
      "metadata": {
        "id": "LfOiroyjMXYR"
      },
      "source": [
        "6\\. Create a function that generates an identity matrix of a given size. You can not solve the problem just by calling the defined above function `matrix_diag`."
      ]
    },
    {
      "cell_type": "code",
      "source": [
        "import numpy as np\n",
        "\n",
        "\n",
        "def generate_identity_matrix(size):\n",
        "    identity_matrix = np.zeros((size, size))\n",
        "    for i in range(size):\n",
        "        identity_matrix[i][i] = 1\n",
        "    return identity_matrix\n",
        "\n",
        "\n",
        "size = 20\n",
        "print(f'id: \\n {generate_identity_matrix(size)}')"
      ],
      "metadata": {
        "colab": {
          "base_uri": "https://localhost:8080/"
        },
        "id": "kL-588l74_fz",
        "outputId": "e8734008-c503-4b51-e2d2-5c7c699669f6"
      },
      "execution_count": 46,
      "outputs": [
        {
          "output_type": "stream",
          "name": "stdout",
          "text": [
            "id: \n",
            " [[1. 0. 0. 0. 0. 0. 0. 0. 0. 0. 0. 0. 0. 0. 0. 0. 0. 0. 0. 0.]\n",
            " [0. 1. 0. 0. 0. 0. 0. 0. 0. 0. 0. 0. 0. 0. 0. 0. 0. 0. 0. 0.]\n",
            " [0. 0. 1. 0. 0. 0. 0. 0. 0. 0. 0. 0. 0. 0. 0. 0. 0. 0. 0. 0.]\n",
            " [0. 0. 0. 1. 0. 0. 0. 0. 0. 0. 0. 0. 0. 0. 0. 0. 0. 0. 0. 0.]\n",
            " [0. 0. 0. 0. 1. 0. 0. 0. 0. 0. 0. 0. 0. 0. 0. 0. 0. 0. 0. 0.]\n",
            " [0. 0. 0. 0. 0. 1. 0. 0. 0. 0. 0. 0. 0. 0. 0. 0. 0. 0. 0. 0.]\n",
            " [0. 0. 0. 0. 0. 0. 1. 0. 0. 0. 0. 0. 0. 0. 0. 0. 0. 0. 0. 0.]\n",
            " [0. 0. 0. 0. 0. 0. 0. 1. 0. 0. 0. 0. 0. 0. 0. 0. 0. 0. 0. 0.]\n",
            " [0. 0. 0. 0. 0. 0. 0. 0. 1. 0. 0. 0. 0. 0. 0. 0. 0. 0. 0. 0.]\n",
            " [0. 0. 0. 0. 0. 0. 0. 0. 0. 1. 0. 0. 0. 0. 0. 0. 0. 0. 0. 0.]\n",
            " [0. 0. 0. 0. 0. 0. 0. 0. 0. 0. 1. 0. 0. 0. 0. 0. 0. 0. 0. 0.]\n",
            " [0. 0. 0. 0. 0. 0. 0. 0. 0. 0. 0. 1. 0. 0. 0. 0. 0. 0. 0. 0.]\n",
            " [0. 0. 0. 0. 0. 0. 0. 0. 0. 0. 0. 0. 1. 0. 0. 0. 0. 0. 0. 0.]\n",
            " [0. 0. 0. 0. 0. 0. 0. 0. 0. 0. 0. 0. 0. 1. 0. 0. 0. 0. 0. 0.]\n",
            " [0. 0. 0. 0. 0. 0. 0. 0. 0. 0. 0. 0. 0. 0. 1. 0. 0. 0. 0. 0.]\n",
            " [0. 0. 0. 0. 0. 0. 0. 0. 0. 0. 0. 0. 0. 0. 0. 1. 0. 0. 0. 0.]\n",
            " [0. 0. 0. 0. 0. 0. 0. 0. 0. 0. 0. 0. 0. 0. 0. 0. 1. 0. 0. 0.]\n",
            " [0. 0. 0. 0. 0. 0. 0. 0. 0. 0. 0. 0. 0. 0. 0. 0. 0. 1. 0. 0.]\n",
            " [0. 0. 0. 0. 0. 0. 0. 0. 0. 0. 0. 0. 0. 0. 0. 0. 0. 0. 1. 0.]\n",
            " [0. 0. 0. 0. 0. 0. 0. 0. 0. 0. 0. 0. 0. 0. 0. 0. 0. 0. 0. 1.]]\n"
          ]
        }
      ]
    },
    {
      "cell_type": "markdown",
      "metadata": {
        "id": "TmNs3SWPMXYR"
      },
      "source": [
        "7\\. Create functions that perform left and right multiplication of a matrix by a diagonal matrix."
      ]
    },
    {
      "cell_type": "code",
      "source": [
        "import numpy as np\n",
        "\n",
        "\n",
        "def matrix_multiply(matrix1, matrix2):\n",
        "    m = len(matrix1)\n",
        "    n = len(matrix1[0])\n",
        "    p = len(matrix2[0])\n",
        "    result = np.zeros((p, m))\n",
        "    for i in range(m):\n",
        "        for j in range(p):\n",
        "            for k in range(n):\n",
        "                result[i][j] += matrix1[i][k] * matrix2[k][j]\n",
        "    return result\n",
        "\n",
        "\n",
        "def generate_identity_matrix(size):\n",
        "    identity_matrix = np.zeros((size, size))\n",
        "    for i in range(size):\n",
        "        identity_matrix[i][i] = 1\n",
        "    return identity_matrix\n",
        "\n",
        "\n",
        "def f(matrix, side):\n",
        "  if side == 'left':\n",
        "    return matrix_multiply(generate_identity_matrix(len(matrix[0])), matrix)\n",
        "  elif side == 'right':\n",
        "    return matrix_multiply(matrix, generate_identity_matrix(len(matrix[0])))\n",
        "\n",
        "\n",
        "A = np.array([[1, 2, 3], [4, 5, 6], [7, 8, 9]])\n",
        "print(f'Left: \\n {f(A, \"left\")}')\n",
        "print(f'Right: \\n {f(A, \"right\")}')"
      ],
      "metadata": {
        "colab": {
          "base_uri": "https://localhost:8080/"
        },
        "id": "7vhifVNE6DNO",
        "outputId": "d2e2a7c1-5ca1-4bdb-d6fe-9553ac63ce36"
      },
      "execution_count": 51,
      "outputs": [
        {
          "output_type": "stream",
          "name": "stdout",
          "text": [
            "Left: \n",
            " [[1. 2. 3.]\n",
            " [4. 5. 6.]\n",
            " [7. 8. 9.]]\n",
            "Right: \n",
            " [[1. 2. 3.]\n",
            " [4. 5. 6.]\n",
            " [7. 8. 9.]]\n"
          ]
        }
      ]
    },
    {
      "cell_type": "markdown",
      "metadata": {
        "id": "uj6qu4p-MXYR"
      },
      "source": [
        "8\\. Create a function that generates a zero matrix. You can not solve the problem just by calling the defined above function `matrix_diag`."
      ]
    },
    {
      "cell_type": "code",
      "source": [
        "def zero(size):\n",
        "  return [[0.0] * size] * size\n",
        "\n",
        "\n",
        "print(f'Zero matrix: {zero(3)}')"
      ],
      "metadata": {
        "colab": {
          "base_uri": "https://localhost:8080/"
        },
        "id": "e0VPnhSn9Qdv",
        "outputId": "a23440cb-f78f-440d-b029-418f590de4d4"
      },
      "execution_count": 56,
      "outputs": [
        {
          "output_type": "stream",
          "name": "stdout",
          "text": [
            "Zero matrix: [[0.0, 0.0, 0.0], [0.0, 0.0, 0.0], [0.0, 0.0, 0.0]]\n"
          ]
        }
      ]
    }
  ]
}