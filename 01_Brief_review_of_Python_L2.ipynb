{
  "nbformat": 4,
  "nbformat_minor": 0,
  "metadata": {
    "colab": {
      "provenance": []
    },
    "kernelspec": {
      "name": "python3",
      "display_name": "Python 3"
    },
    "language_info": {
      "name": "python"
    }
  },
  "cells": [
    {
      "cell_type": "markdown",
      "metadata": {
        "id": "CfnmgD-FDIIb"
      },
      "source": [
        "1\\. In a particular jurisdiction, taxi fares consist of a base fare of \\\\$4.00, plus \\\\$0.25 for every 140 meters traveled. Write a function that takes the distance traveled (in kilometers) as its only parameter and returns the total fare as its only result. Write a main program that demonstrates the function.\n",
        "\n",
        "_Hint: Taxi fares change over time. Use constants to represent the base fare and the variable portion of the fare so that the program can be updated easily when the rates increase._"
      ]
    },
    {
      "cell_type": "code",
      "execution_count": null,
      "metadata": {
        "colab": {
          "base_uri": "https://localhost:8080/"
        },
        "id": "AbeN-dBfhLSy",
        "outputId": "fd87b5ff-82e2-4562-d639-026841855a3d"
      },
      "outputs": [
        {
          "output_type": "stream",
          "name": "stdout",
          "text": [
            "Total: $9.25\n"
          ]
        }
      ],
      "source": [
        "def taxi(dist):\n",
        "  return base + (dist // 140) * t\n",
        "\n",
        "\n",
        "#  Constants:\n",
        "base = 4\n",
        "t = 0.25\n",
        "\n",
        "d = 3000\n",
        "result = taxi(d)\n",
        "print(f'Total: ${round(result, 2)}')"
      ]
    },
    {
      "cell_type": "markdown",
      "metadata": {
        "id": "PrAmErjGDIIb"
      },
      "source": [
        "2\\. Words like first, second and third are referred to as ordinal numbers. In this exercise, you will write a function that takes an integer as its only parameter and returns a string containing the appropriate English ordinal number as its only result. Your function must handle the integers between 1 and 12 (inclusive). It should return an\n",
        "empty string if the function is called with an argument outside of this range. Include\n",
        "a main program that demonstrates your function by displaying each integer from 1 to 12 and its ordinal number."
      ]
    },
    {
      "cell_type": "code",
      "source": [
        "def counter(number):\n",
        "  try:\n",
        "    return numbers[number]\n",
        "  except KeyError:\n",
        "    return ''\n",
        "\n",
        "\n",
        "numbers = {\n",
        "1: 'first',\n",
        "2: 'second',\n",
        "3: 'third',\n",
        "4: 'fourth',\n",
        "5: 'fifth',\n",
        "6: 'sixth',\n",
        "7: 'seventh',\n",
        "8: 'eighth',\n",
        "9: 'nineth',\n",
        "10: 'tenth',\n",
        "11: 'eleventh',\n",
        "12: 'twelfth'\n",
        "}\n",
        "print(counter(8))\n",
        "print(counter(0))\n",
        "print(counter(2))\n",
        "print(counter(999999))\n",
        "print(counter(12))"
      ],
      "metadata": {
        "colab": {
          "base_uri": "https://localhost:8080/"
        },
        "id": "j66lymvNkwe3",
        "outputId": "c8b1e501-dd3f-43d1-9797-de84faddd434"
      },
      "execution_count": null,
      "outputs": [
        {
          "output_type": "stream",
          "name": "stdout",
          "text": [
            "eighth\n",
            "\n",
            "second\n",
            "\n",
            "twelfth\n"
          ]
        }
      ]
    },
    {
      "cell_type": "markdown",
      "metadata": {
        "id": "ulKDoIXIDIIb"
      },
      "source": [
        "3\\. Many people do not use capital letters correctly, especially when typing on small\n",
        "devices like smart phones. To help address this situation, you will create a function\n",
        "that takes a string as its only parameter and returns a new copy of the string that has\n",
        "been correctly capitalized. In particular, your function must:\n",
        "\n",
        "- Capitalize the first non-space character in the string,\n",
        "- Capitalize the first non-space character after a period, exclamation mark or question mark, and\n",
        "- Capitalize a lowercase \"i\" if it is preceded by a space and followed by a space, period, exclamation mark, question mark or apostrophe.\n",
        "\n",
        "Implementing these transformations will correct most capitalization errors. For example, if the function is provided with the string \"what time do i have to be there? what’s the address? this time i’ll try to be on time!\" then it should return the string\n",
        "\"What time do I have to be there? What’s the address? This time I’ll try to be on time!\". Include a main program that reads a string from the user, capitalizes it using your function, and displays the result.\n"
      ]
    },
    {
      "cell_type": "code",
      "source": [
        "def correct_capitalization(s):\n",
        "    result = ''\n",
        "    capitalize_next = True\n",
        "\n",
        "    for i in range(len(s)):\n",
        "        if s[i] == 'i' and i > 0 and i < len(s) - 1:\n",
        "          if s[i-1] == ' ' and s[i+1] in ' .!?’':\n",
        "            result += 'I'\n",
        "          else:\n",
        "            result += 'i'\n",
        "        else:\n",
        "          if capitalize_next and s[i] != ' ':\n",
        "              result += s[i].upper()\n",
        "              capitalize_next = False\n",
        "          else:\n",
        "              result += s[i]\n",
        "\n",
        "          if s[i] in '.!?':\n",
        "              capitalize_next = True\n",
        "\n",
        "    return result\n",
        "\n",
        "\n",
        "string = input('Enter a string: ')\n",
        "corrected_string = correct_capitalization(string)\n",
        "print(f'Corrected string: {corrected_string}')"
      ],
      "metadata": {
        "colab": {
          "base_uri": "https://localhost:8080/"
        },
        "id": "UIIK0lNHnItz",
        "outputId": "7fafa9d5-dbb3-4830-e36c-db27b362fb0e"
      },
      "execution_count": null,
      "outputs": [
        {
          "output_type": "stream",
          "name": "stdout",
          "text": [
            "Enter a string: what time do i have to be there? what’s the address? this time i’ll try to be on time!\n",
            "Corrected string: What time do I have to be there? What’s the address? This time I’ll try to be on time!\n"
          ]
        }
      ]
    },
    {
      "cell_type": "markdown",
      "metadata": {
        "id": "R8nYCIXKDIIb"
      },
      "source": [
        "4\\. Create a class that checks the authorization. Its constructor takes correct user name and password and store them as attributes. To increase security the password must not be stored as it is. Convert it to hash using function `hash()`. Also the class has a method `check` that accepts a user name and password input by a user and return `True` if they are correct and `False` otherwise. Write a program that demonstrates how this class works."
      ]
    },
    {
      "cell_type": "code",
      "source": [
        "class Authorization:\n",
        "    def __init__(self, username, password):\n",
        "        self.username = username\n",
        "        self.password = hash(password)\n",
        "\n",
        "    def check(self, input_username, input_password):\n",
        "        input_hashed_password = hash(input_password)\n",
        "        if input_username == self.username and input_hashed_password == self.password:\n",
        "            return True\n",
        "        else:\n",
        "            return False\n",
        "\n",
        "\n",
        "username = 'Osterfield'\n",
        "password = 'Moscow4'\n",
        "auth = Authorization(username, password)\n",
        "\n",
        "input_username = input('Enter username: ')\n",
        "input_password = input('Enter password: ')\n",
        "\n",
        "if auth.check(input_username, input_password):\n",
        "    print('Authorization successful.')\n",
        "else:\n",
        "    print('Authorization failed.')"
      ],
      "metadata": {
        "id": "sGiZfpezrj-y",
        "colab": {
          "base_uri": "https://localhost:8080/"
        },
        "outputId": "d9aa2f7d-4e91-4e3a-a6e5-b6bea13b0d52"
      },
      "execution_count": 4,
      "outputs": [
        {
          "output_type": "stream",
          "name": "stdout",
          "text": [
            "Enter username: Osterfield\n",
            "Enter password: Moscow3\n",
            "Authorization failed.\n"
          ]
        }
      ]
    },
    {
      "cell_type": "markdown",
      "metadata": {
        "id": "L7miosaQDIIb"
      },
      "source": [
        "5\\. Passwords are never stored in their original form. A random string of symbols is added to each password and then hashed. The added string is called a \"salt\".\n",
        "\n",
        "Create a class whose constructor accepts and stores a salt string, and also it has a method `marinate()` that takes a password and return hash of the salted password. Compute hash using function `hash()`."
      ]
    },
    {
      "cell_type": "code",
      "source": [
        "import random\n",
        "from string import ascii_lowercase, digits, punctuation\n",
        "\n",
        "\n",
        "class SaltAuthorization:\n",
        "  def __init__(self, random_string):\n",
        "    self.salt = random_string\n",
        "\n",
        "  def marinate(self, password):\n",
        "    return hash(password + self.salt)\n",
        "\n",
        "\n",
        "random_string = ''.join(random.choice(ascii_lowercase + digits + punctuation) for i in range(12))\n",
        "auth = SaltAuthorization(random_string)\n",
        "print(f'Hashed-salted password: {auth.marinate(input(\"Enter password: \"))}')"
      ],
      "metadata": {
        "colab": {
          "base_uri": "https://localhost:8080/"
        },
        "id": "a7K0dNaoam-s",
        "outputId": "d5abf153-cf31-4d5b-b77d-f4b6ac02cf20"
      },
      "execution_count": 14,
      "outputs": [
        {
          "output_type": "stream",
          "name": "stdout",
          "text": [
            "Enter password: Moscow4\n",
            "Hashed-salted password: -6589250247428835911\n"
          ]
        }
      ]
    },
    {
      "cell_type": "markdown",
      "metadata": {
        "id": "0BeiH0SrDIIb"
      },
      "source": [
        "6\\. When analyzing data collected as part of a science experiment it may be desirable\n",
        "to remove the most extreme values before performing other calculations. Write a function that takes a list of values and an non-negative integer, n, as its parameters. The function should create a new copy of the list with the n largest elements and the\n",
        "n smallest elements removed. Then it should return the new copy of the list as the function's only result. The order of the elements in the returned list does not have to match the order of the elements in the original list.\n",
        "\n",
        "Write a main program that demonstrates your function. It should read a list of\n",
        "numbers from the user and remove the two largest and two smallest values from it by\n",
        "calling the function described previously. Display the list with the outliers removed,\n",
        "followed by the original list. Your program should generate an appropriate error\n",
        "message if the user enters less than 4 values."
      ]
    },
    {
      "cell_type": "code",
      "source": [
        "import sys\n",
        "\n",
        "\n",
        "def valuesremover(arr):\n",
        "  if len(arr) < 4:\n",
        "    return ['Your input is less than 4 values']\n",
        "  else:\n",
        "    return sorted(arr)[2:-2]\n",
        "\n",
        "\n",
        "data = []\n",
        "print('Please insert integer values, print # after the last of them: ')\n",
        "for i in range(sys.maxsize): #  I'm sorry, it was possible to construct a while cycle here, but I'm used to doing it this way\n",
        "  inp = input()\n",
        "  if inp != '#':\n",
        "    try:\n",
        "        n = int(inp)\n",
        "        if n < 0:\n",
        "            raise ValueError('This is not integer')\n",
        "        else:\n",
        "          data.append(n)\n",
        "    except ValueError as error:\n",
        "        print(error)\n",
        "  else:\n",
        "    break\n",
        "result = valuesremover(data)\n",
        "result_str = ''\n",
        "for element in result:\n",
        "  result_str = result_str + str(element) + ' '\n",
        "print('The result: ' + result_str)"
      ],
      "metadata": {
        "colab": {
          "base_uri": "https://localhost:8080/"
        },
        "id": "oibgKTC621Vp",
        "outputId": "bc407012-2d80-4e65-c9bc-50a2881e2fc2"
      },
      "execution_count": 33,
      "outputs": [
        {
          "output_type": "stream",
          "name": "stdout",
          "text": [
            "Please insert integer values, print # after the last of them: \n",
            "5\n",
            "4\n",
            "8\n",
            "100\n",
            "0\n",
            "1\n",
            "45\n",
            "99\n",
            "6666666\n",
            "18\n",
            "#\n",
            "The result: 4 5 8 18 45 99 \n"
          ]
        }
      ]
    },
    {
      "cell_type": "markdown",
      "metadata": {
        "id": "tyBvacEDDIIc"
      },
      "source": [
        "7\\. Create a program that reads integers from the user until a blank line is entered. Once\n",
        "all of the integers have been read your program should display all of the negative numbers, followed by all of the zeros, followed by all of the positive numbers. Within each group the numbers should be displayed in the same order that they were entered by the user. For example, if the user enters the values 3, -4, 1, 0, -1, 0, and -2 then your program should output the values -4, -1, -2, 0, 0, 3, and 1. Your program should display each value on its own line.\n"
      ]
    },
    {
      "cell_type": "code",
      "source": [
        "import sys\n",
        "\n",
        "\n",
        "def separator(arr):\n",
        "  positives = []\n",
        "  negatives = []\n",
        "  zeros = []\n",
        "  for number in arr:\n",
        "    if number > 0:\n",
        "      positives.append(number)\n",
        "    elif number == 0:\n",
        "      zeros.append(number)\n",
        "    else:\n",
        "      negatives.append(number)\n",
        "  return negatives + zeros + positives\n",
        "\n",
        "\n",
        "data = []\n",
        "print('Please insert integer values, print # after the last of them: ')\n",
        "for i in range(sys.maxsize):\n",
        "  inp = input()\n",
        "  if inp != ' ':\n",
        "    try:\n",
        "        data.append(int(inp))\n",
        "    except ValueError as error:\n",
        "        print(error)\n",
        "  else:\n",
        "    break\n",
        "result = separator(data)\n",
        "for element in result:\n",
        "  print(element)"
      ],
      "metadata": {
        "colab": {
          "base_uri": "https://localhost:8080/"
        },
        "id": "4TM_oLPz-Emo",
        "outputId": "3eae1e55-ac1f-4b04-e9fe-e2d11734e3f0"
      },
      "execution_count": 36,
      "outputs": [
        {
          "output_type": "stream",
          "name": "stdout",
          "text": [
            "Please insert integer values, print # after the last of them: \n",
            "3\n",
            "-4\n",
            "1\n",
            "0\n",
            "-1\n",
            "0\n",
            "-2\n",
            " \n",
            "-4\n",
            "-1\n",
            "-2\n",
            "0\n",
            "0\n",
            "3\n",
            "1\n"
          ]
        }
      ]
    },
    {
      "cell_type": "markdown",
      "metadata": {
        "id": "_wdMp-7KDIIc"
      },
      "source": [
        "8\\. Pig Latin is a language constructed by transforming English words. While the origins of the language are unknown, it is mentioned in at least two documents from the nineteenth century, suggesting that it has existed for more than 100 years. The following rules are used to translate English into Pig Latin:\n",
        "\n",
        "- If the word begins with a consonant (including y), then all letters at the beginning of the word, up to the first vowel (excluding y), are removed and then added to the end of the word, followed by ay. For example, computer becomes omputercay and think becomes inkthay.\n",
        "- If the word begins with a vowel (not including y), then way is added to the end of the word. For example, algorithm becomes algorithmway and office becomes officeway.\n",
        "\n",
        "Write a program that reads a line of text from the user. Then your program should\n",
        "translate the line into Pig Latin and display the result. You may assume that the string\n",
        "entered by the user only contains lowercase letters and spaces.\n"
      ]
    },
    {
      "cell_type": "code",
      "source": [
        "vowels = 'aeiou'\n",
        "\n",
        "def piglatinator(text):\n",
        "  output = ''\n",
        "  for word in text.split(' '):\n",
        "    if word[0] in vowels:\n",
        "      output += word + 'way '\n",
        "    else:\n",
        "      for i in range(len(word)):\n",
        "        if word[i] in vowels:\n",
        "          output += word[i:] + word[:i] + 'ay '\n",
        "          break\n",
        "  return output\n",
        "\n",
        "\n",
        "inp = input('Your text: ').lower() #  just in case\n",
        "print('Pig Latin traslation: ' + piglatinator(inp))"
      ],
      "metadata": {
        "colab": {
          "base_uri": "https://localhost:8080/"
        },
        "id": "40iR86VVBAHZ",
        "outputId": "db8f262f-a71a-49ec-8260-63952da4141f"
      },
      "execution_count": 46,
      "outputs": [
        {
          "output_type": "stream",
          "name": "stdout",
          "text": [
            "Your text: oui\n",
            "Pig Latin traslation: ouiway \n"
          ]
        }
      ]
    },
    {
      "cell_type": "markdown",
      "metadata": {
        "id": "qcfxho0XDIIc"
      },
      "source": [
        "9\\. Create a program that determines and displays the number of unique characters in a string entered by the user. For example, \"Hello, World!\" has 10 unique characters while \"zzz\" has only one unique character. Use a dictionary or set to solve this problem.\n"
      ]
    },
    {
      "cell_type": "code",
      "source": [
        "text = input('Enter string: ')\n",
        "print(f'Your string contains {len(set(text))} unique characters')"
      ],
      "metadata": {
        "colab": {
          "base_uri": "https://localhost:8080/"
        },
        "id": "oqXrKHhFIRQi",
        "outputId": "2caf3df9-b26a-477c-fdf4-86c363f4f23c"
      },
      "execution_count": 49,
      "outputs": [
        {
          "output_type": "stream",
          "name": "stdout",
          "text": [
            "Enter string: Josh Dun\n",
            "Your string contains 8 unique characters\n"
          ]
        }
      ]
    },
    {
      "cell_type": "markdown",
      "metadata": {
        "id": "WlTBFJ6mDIIc"
      },
      "source": [
        "10\\. While the popularity of cheques as a payment method has diminished in recent years, some companies still issue them to pay employees or vendors. The amount being paid normally appears on a cheque twice, with one occurrence written using digits, and the other occurrence written using English words. Repeating the amount in two\n",
        "different forms makes it much more difficult for an unscrupulous employee or vendor to modify the amount on the cheque before depositing it.\n",
        "\n",
        "In this exercise, your task is to create a function that takes an integer between 0 and 999 as its only parameter, and returns a string containing the English words for that number. For example, if the parameter to the function is 142 then your function should return \"one hundred forty two\". Use one or more dictionaries to implement your solution rather than large if/elif/else constructs. Include a main program that reads an integer from the user and displays its value in English words.\n"
      ]
    },
    {
      "cell_type": "code",
      "source": [
        "def number_to_words(number):\n",
        "    ones = [\"\", \"one\", \"two\", \"three\", \"four\", \"five\", \"six\", \"seven\", \"eight\", \"nine\"]\n",
        "    teens = [\"ten\", \"eleven\", \"twelve\", \"thirteen\", \"fourteen\", \"fifteen\", \"sixteen\", \"seventeen\", \"eighteen\", \"nineteen\"]\n",
        "    tens = [\"\", \"\", \"twenty\", \"thirty\", \"forty\", \"fifty\", \"sixty\", \"seventy\", \"eighty\", \"ninety\"]\n",
        "    if number == 0:\n",
        "        return \"zero\"\n",
        "    if number < 10:\n",
        "        return ones[number]\n",
        "    if number < 20:\n",
        "        return teens[number - 10]\n",
        "    if number < 100:\n",
        "        return tens[number // 10] + (' ' + ones[number % 10] if number % 10 != 0 else '')\n",
        "    return ones[number // 100] + ' hundred' + (' ' + number_to_words(number % 100) if number % 100 != 0 else '')\n",
        "\n",
        "\n",
        "number = int(input('Enter a number between 0 and 999: '))\n",
        "if number < 0 or number > 999:\n",
        "    print('Number out of range')\n",
        "else:\n",
        "    result = number_to_words(number)\n",
        "    print(result)"
      ],
      "metadata": {
        "colab": {
          "base_uri": "https://localhost:8080/"
        },
        "id": "_w-W5MIHJ2pw",
        "outputId": "6fdf6ed6-0aad-40d2-eeb0-e115ad908829"
      },
      "execution_count": 56,
      "outputs": [
        {
          "output_type": "stream",
          "name": "stdout",
          "text": [
            "Enter a number between 0 and 999: 212\n",
            "two hundred twelve\n"
          ]
        }
      ]
    }
  ]
}