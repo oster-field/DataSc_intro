{
  "nbformat": 4,
  "nbformat_minor": 0,
  "metadata": {
    "colab": {
      "provenance": []
    },
    "kernelspec": {
      "name": "python3",
      "display_name": "Python 3"
    },
    "language_info": {
      "name": "python"
    }
  },
  "cells": [
    {
      "cell_type": "markdown",
      "metadata": {
        "id": "X9Ks5T9vKSuJ"
      },
      "source": [
        "### Exercises\n",
        "\n",
        "1\\. For the functions $y(x)$ listed below compute the derivatives at $x$\n",
        "\n",
        "- $y(x)=2x^2-x$\n",
        "- $y(x)=\\sin x^2$\n",
        "- $y(x)=e^{-3x}$\n",
        "- $y(x)=\\log(1/x)$\n",
        "\n",
        "2\\. Write a program that finds the minimum of the function\n",
        "\n",
        "$$\n",
        "y(x) = 1-e^{-(x-5)^2}\n",
        "$$\n",
        "\n",
        "using a gradient descent."
      ]
    },
    {
      "cell_type": "code",
      "execution_count": 9,
      "metadata": {
        "colab": {
          "base_uri": "https://localhost:8080/",
          "height": 115
        },
        "id": "yBdjEMLwKU-0",
        "outputId": "bf233144-be53-4024-df07-91314dae8a5b"
      },
      "outputs": [
        {
          "output_type": "display_data",
          "data": {
            "text/plain": [
              "4*x - 1"
            ],
            "text/latex": "$\\displaystyle 4 x - 1$"
          },
          "metadata": {}
        },
        {
          "output_type": "display_data",
          "data": {
            "text/plain": [
              "2*x*cos(x**2)"
            ],
            "text/latex": "$\\displaystyle 2 x \\cos{\\left(x^{2} \\right)}$"
          },
          "metadata": {}
        },
        {
          "output_type": "display_data",
          "data": {
            "text/plain": [
              "-3*exp(-3*x)"
            ],
            "text/latex": "$\\displaystyle - 3 e^{- 3 x}$"
          },
          "metadata": {}
        },
        {
          "output_type": "display_data",
          "data": {
            "text/plain": [
              "-1/x"
            ],
            "text/latex": "$\\displaystyle - \\frac{1}{x}$"
          },
          "metadata": {}
        }
      ],
      "source": [
        "#  This can be done numerically, but Python has libraries for calculating the derivative directly\n",
        "import numpy as np\n",
        "from sympy import *\n",
        "\n",
        "x = Symbol('x')\n",
        "f1 = 2 * x**2 - x\n",
        "f2 = sin(x**2)\n",
        "f3 = exp(-3 * x)\n",
        "f4 = log(1 / x)\n",
        "\n",
        "display(diff(f1, x))\n",
        "display(diff(f2, x))\n",
        "display(diff(f3, x))\n",
        "display(diff(f4, x))\n"
      ]
    },
    {
      "cell_type": "code",
      "source": [
        "import numpy as np\n",
        "\n",
        "\n",
        "def gradient_descent(x0, f, df, d=0.1, precision=0.00001, max_iter=10000):\n",
        "    x = x0 #  If we'll start very far from the minimum, an infinit number of iterations will be required,\n",
        "    #  since the exponent in the framework of Python number formats will be equal to zero there\n",
        "    for _ in range(max_iter):\n",
        "        gradient = df(x)\n",
        "        new_x = x - d * gradient\n",
        "        if abs(new_x - x) < precision:\n",
        "            break\n",
        "        x = new_x\n",
        "    return x, f(x)\n",
        "\n",
        "\n",
        "min_x, min_val = gradient_descent(2.5, lambda x: 1 - np.exp(-(x-5)**2), lambda x: -(10 - 2 * x)*np.exp(-(x - 5)**2))\n",
        "print(f'Minvalue of f(x) = {np.round(min_val, 7)} at x = {min_x}')"
      ],
      "metadata": {
        "colab": {
          "base_uri": "https://localhost:8080/"
        },
        "id": "rhB2E72YKdRK",
        "outputId": "fddbadcc-0314-41f8-b4da-6eaa751c7f2d"
      },
      "execution_count": 36,
      "outputs": [
        {
          "output_type": "stream",
          "name": "stdout",
          "text": [
            "Minvalue of f(x) = 0.0 at x = 4.99995681901921\n"
          ]
        }
      ]
    },
    {
      "cell_type": "markdown",
      "metadata": {
        "id": "14b7tmheKSuY"
      },
      "source": [
        "### Exercises\n",
        "\n",
        "3\\. Compute gradients of the following functions:\n",
        "\n",
        "- $f(x,y) = x^3 - y^2$\n",
        "- $f(x,y) = \\sin (x+y)$\n",
        "- $f(x,y) = x e^y$\n",
        "\n",
        "4\\. Write a program that finds the minimum of the function\n",
        "$$\n",
        "f(x_1, x_2, x_3) = 0.1 x_1 e^{x_1} + 0.3 x_2 e^{x_2} + 0.6 x_3 e^{x_3}\n",
        "$$\n",
        "\n",
        "using a gradient descent."
      ]
    },
    {
      "cell_type": "code",
      "source": [
        "#  This can be done numerically, but Python has libraries for calculating the derivative directly\n",
        "import numpy as np\n",
        "from sympy import *\n",
        "from IPython.display import display, Math # Для красоты\n",
        "\n",
        "x = Symbol('x')\n",
        "y = Symbol('y')\n",
        "f1 = x**3 - y**3\n",
        "f2 = sin(x + y)\n",
        "f3 = x * exp(y)\n",
        "\n",
        "display(Math('∇[' + latex(f1) + '] = (' + latex(diff(f1, x)) + '; ' + latex(diff(f1, y)) + ')'))\n",
        "display(Math('∇[' + latex(f2) + '] = (' + latex(diff(f2, x)) + '; ' + latex(diff(f2, y)) + ')'))\n",
        "display(Math('∇[' + latex(f3) + '] = (' + latex(diff(f3, x)) + '; ' + latex(diff(f3, y)) + ')'))"
      ],
      "metadata": {
        "colab": {
          "base_uri": "https://localhost:8080/",
          "height": 81
        },
        "id": "XrdEqHm1Vpe3",
        "outputId": "85ce5415-4a2f-4a41-a973-101e28c89983"
      },
      "execution_count": 53,
      "outputs": [
        {
          "output_type": "display_data",
          "data": {
            "text/plain": [
              "<IPython.core.display.Math object>"
            ],
            "text/latex": "$\\displaystyle ∇[x^{3} - y^{3}] = (3 x^{2}; - 3 y^{2})$"
          },
          "metadata": {}
        },
        {
          "output_type": "display_data",
          "data": {
            "text/plain": [
              "<IPython.core.display.Math object>"
            ],
            "text/latex": "$\\displaystyle ∇[\\sin{\\left(x + y \\right)}] = (\\cos{\\left(x + y \\right)}; \\cos{\\left(x + y \\right)})$"
          },
          "metadata": {}
        },
        {
          "output_type": "display_data",
          "data": {
            "text/plain": [
              "<IPython.core.display.Math object>"
            ],
            "text/latex": "$\\displaystyle ∇[x e^{y}] = (e^{y}; x e^{y})$"
          },
          "metadata": {}
        }
      ]
    },
    {
      "cell_type": "code",
      "source": [
        "import numpy as np\n",
        "\n",
        "\n",
        "def function(x, y, z):\n",
        "    return 0.1 * x * np.exp(x) + 0.3 * y * np.exp(y) + 0.6 * z * np.exp(z)\n",
        "\n",
        "\n",
        "def gradient(x, y, z):\n",
        "    return np.array([0.1 * np.exp(x) * (x + 1), 0.3 * np.exp(y) * (y + 1), 0.6 * np.exp(z) * (z + 1)])\n",
        "\n",
        "\n",
        "def gradient_descent(d, iterations):\n",
        "    x, y, z = 0, 0, 0 #  It's easy to see that in (-1, -1, -1) our gradient (0, 0, 0), let's start near this point\n",
        "    for _ in range(iterations):\n",
        "        grad = gradient(x, y, z)\n",
        "        x -= d * grad[0]\n",
        "        y -= d * grad[1]\n",
        "        z -= d * grad[2]\n",
        "    return x, y, z\n",
        "\n",
        "\n",
        "min_x, min_y, min_z = gradient_descent(0.01, 10000)\n",
        "print(f'The local minimum value occurs at x = {min_x}, y = {min_y}, z = {min_z}')\n",
        "print(f'The local minimum value of the function is {function(min_x, min_y, min_z)}')"
      ],
      "metadata": {
        "colab": {
          "base_uri": "https://localhost:8080/"
        },
        "id": "2aHuRyXdXxRP",
        "outputId": "598f23a2-f804-4314-8244-367677497143"
      },
      "execution_count": 75,
      "outputs": [
        {
          "output_type": "stream",
          "name": "stdout",
          "text": [
            "The local minimum value occurs at x = -0.9884944381844821, y = -0.9999927901560696, z = -0.9999999998861053\n",
            "The local minimum value of the function is -0.3678769874543521\n"
          ]
        }
      ]
    }
  ]
}