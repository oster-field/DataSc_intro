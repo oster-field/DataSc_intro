{
  "nbformat": 4,
  "nbformat_minor": 0,
  "metadata": {
    "colab": {
      "provenance": []
    },
    "kernelspec": {
      "name": "python3",
      "display_name": "Python 3"
    },
    "language_info": {
      "name": "python"
    }
  },
  "cells": [
    {
      "cell_type": "markdown",
      "metadata": {
        "id": "FBruTPmLh0dL"
      },
      "source": [
        "### Exercises\n",
        "\n",
        "1\\. Find $w$ and $b$ for a neuron that predict groups with respect to the separation line $x_2=0$\n",
        "\n",
        "2\\. Find $w$ and $b$ for a neuron that separate bottom right group of points from all others.\n"
      ]
    },
    {
      "cell_type": "markdown",
      "source": [
        "1.  w = [0, 1] and b = 0"
      ],
      "metadata": {
        "id": "VxmNOWM0fDGv"
      }
    },
    {
      "cell_type": "markdown",
      "source": [
        "2. w = [0, -1] and  b = -x0 , where x0 is the x-coordinate of the separation line."
      ],
      "metadata": {
        "id": "zb0x1ay6fXhZ"
      }
    }
  ]
}