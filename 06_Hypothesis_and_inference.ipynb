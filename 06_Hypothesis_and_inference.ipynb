{
  "nbformat": 4,
  "nbformat_minor": 0,
  "metadata": {
    "colab": {
      "provenance": []
    },
    "kernelspec": {
      "name": "python3",
      "display_name": "Python 3"
    },
    "language_info": {
      "name": "python"
    }
  },
  "cells": [
    {
      "cell_type": "markdown",
      "metadata": {
        "id": "KvQ4DrNTx0OJ"
      },
      "source": [
        "### Exercises\n",
        "\n",
        "1\\. Using Python functions defined above compute probability that a random variable obeyed the standard normal distribution fits the range \\[-1, 1\\].\n",
        "\n",
        "2\\. Using Python functions defined above compute such $X$ that a random variable $x$ obeyed the standard normal distribution is $x<X$ with the probability $0.25$.\n",
        "\n",
        "3\\. In a series $N=1500$ of tossing of an unknown coin the heads appeared 783 times. Can this coin be treated as unfair? Answer this question performing the hypothesis testing for significance $\\alpha=0.05$. Compute probabilities of type 1 and 2 errors and the power.\n",
        "\n",
        "4\\. For a series of $N=1000$ tossing of a coin develop a one sided test: accept as a null hypothesis that a coin is not biased toward heads, $P\\leq 0.5$, and use significance $\\alpha=0.05$"
      ]
    },
    {
      "cell_type": "code",
      "source": [
        "import numpy as np\n",
        "\n",
        "\n",
        "def get_mu_sig(N, P):\n",
        "    \"\"\"\n",
        "    mu and sig corresponding to a binomial distribution\"\"\"\n",
        "    mu = P * N\n",
        "    sig = np.sqrt(N * P * (1 - P))\n",
        "    return mu, sig\n",
        "\n",
        "\n",
        "def norm_pdf(x, mu, sig):\n",
        "    \"\"\"Normal probability density function\"\"\"\n",
        "    return np.exp(-(x-mu)**2 / (2*sig*sig)) / (sig * np.sqrt(2*np.pi))\n",
        "\n",
        "\n",
        "mu, sig = get_mu_sig(10000, 5e-5)\n",
        "print(mu, sig)\n",
        "dx = 0.01\n",
        "x = np.arange(-1, 1, dx)\n",
        "norm_pdf = norm_pdf(x, mu, sig)\n",
        "p = np.trapz(norm_pdf, dx=dx) # it can be done using CDF but I decided to go this way\n",
        "print(f'Probability that a random variable with mean={np.round(mu, 1)} and SD={np.round(sig, 2)} obeyed the standard normal distribution fits the range [-1, 1]: {np.round(p, 3)}')"
      ],
      "metadata": {
        "colab": {
          "base_uri": "https://localhost:8080/"
        },
        "id": "eRkoPVXjyIci",
        "outputId": "79cfe5d4-02ec-4f5c-b970-3516f1c701ef"
      },
      "execution_count": null,
      "outputs": [
        {
          "output_type": "stream",
          "name": "stdout",
          "text": [
            "0.5 0.7070891032960415\n",
            "Probability that a random variable with mean=0.5 and SD=0.71 obeyed the standard normal distribution fits the range [-1, 1]: 0.739\n"
          ]
        }
      ]
    },
    {
      "cell_type": "code",
      "source": [
        "import numpy as np\n",
        "from scipy.special import erf, erfinv\n",
        "from scipy.optimize import bisect\n",
        "\n",
        "\n",
        "def get_mu_sig(N, P):\n",
        "    \"\"\"\n",
        "    mu and sig corresponding to a binomial distribution\"\"\"\n",
        "    mu = P * N\n",
        "    sig = np.sqrt(N * P * (1 - P))\n",
        "    return mu, sig\n",
        "\n",
        "\n",
        "mu, sig = get_mu_sig(10000, 5e-5)\n",
        "desired_prob = 0.25\n",
        "x = mu + sig * np.sqrt(2) * erfinv(2 * desired_prob - 1) #  approach 1\n",
        "print(f'Direct solution: {x}')\n",
        "sol = bisect(lambda x: 0.5 * (1 + erf((x-mu)/(sig*np.sqrt(2)))) - 0.25, mu - 3 * sig, mu + 3 * sig)\n",
        "print(f'Numerical solution: {sol}')"
      ],
      "metadata": {
        "colab": {
          "base_uri": "https://localhost:8080/"
        },
        "id": "MtTl8W28yJWX",
        "outputId": "6e430c11-da10-4a2f-9ab9-01d793c289c3"
      },
      "execution_count": null,
      "outputs": [
        {
          "output_type": "stream",
          "name": "stdout",
          "text": [
            "Direct solution: 0.023075647351481487\n",
            "Numerical solution: 0.023075647351045152\n"
          ]
        }
      ]
    },
    {
      "cell_type": "code",
      "source": [
        "import numpy as np\n",
        "from scipy.special import erf\n",
        "\n",
        "\n",
        "def get_mu_sig(N, P):\n",
        "    \"\"\"\n",
        "    mu and sig corresponding to a binomial distribution\"\"\"\n",
        "    mu = P * N\n",
        "    sig = np.sqrt(N * P * (1 - P))\n",
        "    return mu, sig\n",
        "\n",
        "\n",
        "def norm_btw(lo, hi, mu, sig):\n",
        "    \"\"\"Probability for a normal random variable to fall between lo and hi.\n",
        "    \"\"\"\n",
        "    assert lo < hi\n",
        "\n",
        "    # Probability for a normal random variable to fall below lo\n",
        "    p1 = norm_cdf(lo, mu, sig)\n",
        "\n",
        "    # Probability for a normal random variable to fall below hi\n",
        "    p2 = norm_cdf(hi, mu, sig)\n",
        "\n",
        "    return p2 - p1\n",
        "\n",
        "\n",
        "def norm_cdf(x, mu, sig):\n",
        "    \"\"\"Normal cumulative distribution function\"\"\"\n",
        "    return 0.5 * (1 + erf((x-mu)/(sig*np.sqrt(2))))\n",
        "\n",
        "\n",
        "N = 1500\n",
        "a = 0.05\n",
        "heads = 783\n",
        "p_fair = 0.5\n",
        "p_unfair = 0.55\n",
        "mu, sig = get_mu_sig(N, p_fair)\n",
        "x_lo = round(mu - 1.96 * sig)\n",
        "x_hi = round(mu + 1.96 * sig)\n",
        "print(f'Coin is fare (H0 not rejected), probability of mistake of this statement is: {a}' if x_lo <= heads <= x_hi else 'Coin is unfare, H0 rejected')\n",
        "mu_1, sig_1 = get_mu_sig(N, p_unfair)\n",
        "beta = norm_btw(x_lo, x_hi, mu_1, sig_1)\n",
        "print(f'Probabitity that unfair (p={p_unfair} or p={round(2 * p_fair - p_unfair, 2)}) coin heads for {N} tossings will reach the \"fair\" interval [{x_lo}, {x_hi}] is {np.round(beta, 3)}')\n",
        "print(f'Power: {round(1 - beta, 2)}')"
      ],
      "metadata": {
        "colab": {
          "base_uri": "https://localhost:8080/"
        },
        "id": "7gDqVEuPyJkp",
        "outputId": "a54b3dbd-4d3d-4662-d378-d60ada27c1fe"
      },
      "execution_count": null,
      "outputs": [
        {
          "output_type": "stream",
          "name": "stdout",
          "text": [
            "Coin is fare (H0 not rejected), probability of mistake of this statement is: 0.05\n",
            "Probabitity that unfair (p=0.55 or p=0.45) coin heads for 1500 tossings will reach the \"fair\" interval [712, 788] is 0.027\n",
            "Power: 0.97\n"
          ]
        }
      ]
    },
    {
      "cell_type": "code",
      "source": [
        "import numpy as np\n",
        "from scipy.special import erf\n",
        "\n",
        "\n",
        "def get_mu_sig(N, P):\n",
        "    \"\"\"\n",
        "    mu and sig corresponding to a binomial distribution\"\"\"\n",
        "    mu = P * N\n",
        "    sig = np.sqrt(N * P * (1 - P))\n",
        "    return mu, sig\n",
        "\n",
        "\n",
        "def norm_btw(lo, hi, mu, sig):\n",
        "    \"\"\"Probability for a normal random variable to fall between 0 and hi.\n",
        "    \"\"\"\n",
        "\n",
        "    # Probability for a normal random variable to fall below hi\n",
        "    p = norm_cdf(hi, mu, sig)\n",
        "\n",
        "    return p - 0\n",
        "\n",
        "\n",
        "def norm_cdf(x, mu, sig):\n",
        "    \"\"\"Normal cumulative distribution function\"\"\"\n",
        "    return 0.5 * (1 + erf((x-mu)/(sig*np.sqrt(2))))\n",
        "\n",
        "\n",
        "N = 1000\n",
        "a = 0.05\n",
        "heads = 500\n",
        "p_fair = 0.5\n",
        "p_unfair = 0.55\n",
        "mu, sig = get_mu_sig(N, p_fair)\n",
        "x_hi = round(mu + 1.96 * sig)\n",
        "print(f'Coin is fare (H0 not rejected), probability of mistake of this statement is: {a}' if heads <= x_hi else 'Coin is biased toward heads, H0 rejected')\n",
        "mu_1, sig_1 = get_mu_sig(N, p_unfair)\n",
        "beta = norm_btw(0, x_hi, mu_1, sig_1)\n",
        "print(f'Probabitity that coin biased toward heads for {N} tossings will reach the \"fair\" interval [{0}, {x_hi}] is {np.round(beta, 3)}')\n",
        "print(f'Power: {round(1 - beta, 2)}')"
      ],
      "metadata": {
        "colab": {
          "base_uri": "https://localhost:8080/"
        },
        "id": "OWUkkU1PyJze",
        "outputId": "e9900563-c738-4995-fed0-9818b47e7037"
      },
      "execution_count": 6,
      "outputs": [
        {
          "output_type": "stream",
          "name": "stdout",
          "text": [
            "Coin is fare (H0 not rejected), probability of mistake of this statement is: 0.05\n",
            "Probabitity that coin biased toward heads for 1000 tossings will reach the \"fair\" interval [0, 531] is 0.114\n",
            "Power: 0.89\n"
          ]
        }
      ]
    },
    {
      "cell_type": "markdown",
      "metadata": {
        "id": "bIcmbForx0OT"
      },
      "source": [
        " ### Exercises\n",
        "\n",
        "5\\. Compute the mean and 95% confidence interval for $400$ heads in a series of $1000$ tossing of a coin.\n",
        "\n",
        "6\\. Assume that for a certain age group of students scores on an IQ (intelligence) test are distributed normally with $\\mu=110$ and $\\sigma=16$. One of the students received a score of $82$. Compute $p$-value for this score. Accepting the significance level at $\\alpha=0.05$ make a decision do this student requires a special treatment or his/her IQ is within the norm.\n",
        "\n",
        "7\\. Website with the advertisement A visited $N_a=1550$ times and $n_a=20$ visitors clicked the banner. For the same website with the advertisement B these numbers are $N_b=1700$ and $n_b=25$. Perform the A/B test with the significance $\\alpha=0.05$ and decide which advertisement works better.\n",
        "\n",
        "8\\. Analysis of a large student populations over many universities has shown that 11% percents of them has a part time job. In your university you asked 100 student and reveled 9 with the part time job. Using Bayesian inference refine the common percentage for your particular university.\n",
        "\n",
        "9\\. You are going to open an online store. A colleague of you that already manage an online store told you that the distribution of customer visits during a week is as follows:\n",
        "\n",
        "- Monday: 11\n",
        "- Tuesday: 9\n",
        "- Wednesday: 14\n",
        "- Thursday: 15\n",
        "- Friday: 22\n",
        "- Saturday: 33\n",
        "- Sunday: 31\n",
        "\n",
        " After opening of your own store you obtained the following numbers:\n",
        "\n",
        "- Monday: 30\n",
        "- Tuesday: 19\n",
        "- Wednesday: 34\n",
        "- Thursday: 26\n",
        "- Friday: 50\n",
        "- Saturday: 61\n",
        "- Sunday: 66\n",
        "\n",
        " Using $\\chi^2$-test check if your customer distributions is similar to the expected one. Take $\\alpha=0.05$."
      ]
    },
    {
      "cell_type": "code",
      "execution_count": 9,
      "metadata": {
        "id": "4KFs0dzJyARD",
        "colab": {
          "base_uri": "https://localhost:8080/"
        },
        "outputId": "db9c2078-7389-4cd7-9301-984aae00c1d2"
      },
      "outputs": [
        {
          "output_type": "stream",
          "name": "stdout",
          "text": [
            "Estimated probability is P=0.4±0.0304\n",
            "Confidential interval is [0.3696 - 0.4304]\n"
          ]
        }
      ],
      "source": [
        "import numpy as np\n",
        "\n",
        "\n",
        "def conf_interv_95(N, P):\n",
        "    \"\"\"Compute confidential interval.\n",
        "    \"\"\"\n",
        "    return 1.96 * np.sqrt((P * (1 - P)) / N)\n",
        "\n",
        "\n",
        "x = 400\n",
        "\n",
        "N = 1000\n",
        "\n",
        "P_hat = x / N\n",
        "ci = conf_interv_95(N, P_hat)\n",
        "print(f'Estimated probability is P={P_hat}±{ci:6.4f}')\n",
        "print(f'Confidential interval is [{(P_hat - ci):6.4f} - {(P_hat + ci):6.4f}]')"
      ]
    },
    {
      "cell_type": "code",
      "source": [
        "#  At this point, it seems to me more convenient to take a function from the scipy\n",
        "import scipy.stats as stats\n",
        "\n",
        "mu = 110\n",
        "sigma = 16\n",
        "score = 82\n",
        "alpha = 0.05\n",
        "p_value = stats.norm.cdf(score, loc=mu, scale=sigma) #  Gaussian CDF scaled by customer parameters of mean and variance\n",
        "print(\"P-value:\", round(p_value, 3))\n",
        "if p_value < alpha:\n",
        "    print('Reject the null hypothesis: This student requires a special treatment')\n",
        "else:\n",
        "    print('Fail to reject the null hypothesis: This student has IQ within the norm')"
      ],
      "metadata": {
        "id": "GsxXcp2AyLiT",
        "colab": {
          "base_uri": "https://localhost:8080/"
        },
        "outputId": "f56b30de-09ad-4c75-ab0d-91bf5dc01fdd"
      },
      "execution_count": 13,
      "outputs": [
        {
          "output_type": "stream",
          "name": "stdout",
          "text": [
            "P-value: 0.04\n",
            "Reject the null hypothesis: This student requires a special treatment\n"
          ]
        }
      ]
    },
    {
      "cell_type": "code",
      "source": [
        "import numpy as np\n",
        "from scipy.special import erf\n",
        "import scipy.stats as stats\n",
        "\n",
        "# The website A\n",
        "Na = 1550\n",
        "na = 20\n",
        "\n",
        "# The website B\n",
        "Nb = 1700\n",
        "nb = 25\n",
        "\n",
        "# Convertion ratios\n",
        "ca = na / Na\n",
        "cb = nb / Nb\n",
        "\n",
        "cab = cb - ca\n",
        "\n",
        "\n",
        "def sigma_test(N, c):\n",
        "    \"\"\"Standard deviation for c\"\"\"\n",
        "    return np.sqrt((c * (1 - c)) / N)\n",
        "\n",
        "\n",
        "sig_a = sigma_test(Na, ca)\n",
        "sig_b = sigma_test(Nb, cb)\n",
        "sig_ab = np.sqrt(sig_a**2 + sig_b**2)\n",
        "mu_ab = 0\n",
        "p = 2*norm_cdf(cab, mu=mu_ab, sig=sig_ab) if cab < 0 else 2*(1 - stats.norm.cdf(cab, mu_ab, sig_ab))\n",
        "\n",
        "print(f\"ca={ca:6.4f}, cb={cb:6.4f}, cab={cab:6.4f}, p-value={p:6.4f}\")\n",
        "\n",
        "if p_value < 0.05:\n",
        "    print('Reject the null hypothesis: Advertisement B works better')\n",
        "else:\n",
        "    print('Fail to reject the null hypothesis: No significant difference between the two advertisements')"
      ],
      "metadata": {
        "id": "AyvpphUuyL20",
        "colab": {
          "base_uri": "https://localhost:8080/"
        },
        "outputId": "f848a249-04a7-4a95-fcbd-1bedfb762287"
      },
      "execution_count": 24,
      "outputs": [
        {
          "output_type": "stream",
          "name": "stdout",
          "text": [
            "ca=0.0129, cb=0.0147, cab=0.0018, p-value=0.6595\n",
            "Fail to reject the null hypothesis: No significant difference between the two advertisements\n"
          ]
        }
      ]
    },
    {
      "cell_type": "code",
      "source": [
        "import numpy as np\n",
        "import scipy.stats as stats\n",
        "\n",
        "prior_alpha = 11\n",
        "prior_beta = 100 - prior_alpha\n",
        "\n",
        "observed_successes = 9\n",
        "total_observed = 100\n",
        "posterior_alpha = prior_alpha + observed_successes\n",
        "posterior_beta = prior_beta + total_observed - observed_successes\n",
        "posterior_mean = posterior_alpha / (posterior_alpha + posterior_beta)\n",
        "posterior_credible_interval = stats.beta.interval(0.95, posterior_alpha, posterior_beta) #  Bayesian CDF scaled by customer parameters of mean and variance\n",
        "\n",
        "print(f'Updated percentage of students with part-time jobs at my university: {int(posterior_mean * 100)}%')\n",
        "print(f'95% credible interval: [{int(posterior_credible_interval[0] * 100)}% - {int(posterior_credible_interval[1] * 100)}%]')"
      ],
      "metadata": {
        "id": "oKCo50TtyMAi",
        "colab": {
          "base_uri": "https://localhost:8080/"
        },
        "outputId": "ef932dd8-0791-4c10-dd63-247fdddc750f"
      },
      "execution_count": 34,
      "outputs": [
        {
          "output_type": "stream",
          "name": "stdout",
          "text": [
            "Updated percentage of students with part-time jobs at my university: 10%\n",
            "95% credible interval: [6% - 14%]\n"
          ]
        }
      ]
    },
    {
      "cell_type": "code",
      "source": [
        "import numpy as np\n",
        "from scipy.stats import chisquare\n",
        "\n",
        "expected = np.array([11, 9, 14, 15, 22, 33, 31])\n",
        "observed = np.array([30, 19, 34, 26, 50, 61, 66])\n",
        "expected = expected / np.sum(expected)\n",
        "observed = observed / np.sum(observed)\n",
        "\n",
        "chi = chisquare(f_obs=observed, f_exp=expected)\n",
        "alpha = 0.05\n",
        "pvalue = chi.pvalue\n",
        "if pvalue < alpha:\n",
        "  print('The customer distributions are not similar to the expected one.')\n",
        "else:\n",
        "  print('The customer distributions are similar to the expected one.')\n",
        "\n"
      ],
      "metadata": {
        "id": "vlcUjtzRyMMz",
        "colab": {
          "base_uri": "https://localhost:8080/"
        },
        "outputId": "962bd808-6246-4d9b-a7be-c5ed2337c5c6"
      },
      "execution_count": 41,
      "outputs": [
        {
          "output_type": "stream",
          "name": "stdout",
          "text": [
            "The customer distributions are similar to the expected one.\n"
          ]
        }
      ]
    }
  ]
}