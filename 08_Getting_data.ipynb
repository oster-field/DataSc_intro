{
  "nbformat": 4,
  "nbformat_minor": 0,
  "metadata": {
    "colab": {
      "provenance": []
    },
    "kernelspec": {
      "name": "python3",
      "display_name": "Python 3"
    },
    "language_info": {
      "name": "python"
    }
  },
  "cells": [
    {
      "cell_type": "markdown",
      "metadata": {
        "id": "b07qw6NaRiis"
      },
      "source": [
        "### Exercises\n",
        "\n",
        "1\\. Create the program that writes to a file the multiplication table for pairs of integers from 2 to 9. The content of the file should be like<br>\n",
        "`2 x 2 = 4`<br>\n",
        "`2 x 3 = 6`<br>\n",
        "`...`<br>\n",
        "`9 x 8 = 72`<br>\n",
        "`9 x 9 = 81`<br>\n",
        "\n",
        "2\\. Create the program that accepts a word as command-line parameter prints the number of consonants and vowels in this word.\n",
        "\n",
        "3\\. In this exercise you will create two programs. The first one writes to the standard output stream all integers from a range specified via its command line-parameters. The second program reads a numbers from the standard input stream and resend it to the standard output stream if its decimal representation contains at least one symbol `3`. Create a pipe for these two programs: output of the first one is piped to the input of the second. And the output of the second one is redirected to a file.\n",
        "\n",
        "4\\. Create a program that writes to a CSV-file a table with two columns. The first one is the month name and the second one is the number of its days."
      ]
    },
    {
      "cell_type": "code",
      "execution_count": 44,
      "metadata": {
        "id": "yvXUvtEBRlrR"
      },
      "outputs": [],
      "source": [
        "import csv\n",
        "\n",
        "\n",
        "def generate_multiplication_table(rows, cols):\n",
        "    table = []\n",
        "    for i in range(2, rows + 2):\n",
        "        for j in range(2, cols + 2):\n",
        "            result = i * j\n",
        "            table.append(f\"{i} x {j} = {result}\")\n",
        "    return table\n",
        "\n",
        "\n",
        "multiplication_table = generate_multiplication_table(8, 8)\n",
        "file_path = '/content/multiplication_table.csv'\n",
        "with open(file_path, mode='w', newline='', encoding='utf-8') as file:\n",
        "    writer = csv.writer(file)\n",
        "    for row in multiplication_table:\n",
        "        writer.writerow([row])"
      ]
    },
    {
      "cell_type": "code",
      "source": [
        "filename = 'letters.py'"
      ],
      "metadata": {
        "id": "6glR-IJhXAie"
      },
      "execution_count": 12,
      "outputs": []
    },
    {
      "cell_type": "code",
      "source": [
        "%%writefile $filename\n",
        "import sys\n",
        "\n",
        "word = sys.argv[1].lower()\n",
        "\n",
        "vowels = 0\n",
        "consonants = 0\n",
        "for char in word:\n",
        "  if char in ['a', 'e', 'i', 'o', 'u']:\n",
        "      vowels += 1\n",
        "  else:\n",
        "      consonants += 1\n",
        "\n",
        "print(f'The word \"{sys.argv[1]}\" contains {vowels} vowels and {consonants} consonants.')"
      ],
      "metadata": {
        "colab": {
          "base_uri": "https://localhost:8080/"
        },
        "id": "NR900uXuVmJz",
        "outputId": "434bb59e-c8ae-43fb-df52-2c754a6d782d"
      },
      "execution_count": 17,
      "outputs": [
        {
          "output_type": "stream",
          "name": "stdout",
          "text": [
            "Overwriting letters.py\n"
          ]
        }
      ]
    },
    {
      "cell_type": "code",
      "source": [
        "!python $filename Coconut"
      ],
      "metadata": {
        "colab": {
          "base_uri": "https://localhost:8080/"
        },
        "id": "dg_VKWTGW5Sp",
        "outputId": "eb7817de-b9f9-4e5c-8991-1f3edd48e0ea"
      },
      "execution_count": 18,
      "outputs": [
        {
          "output_type": "stream",
          "name": "stdout",
          "text": [
            "The word \"Coconut\" contains 3 vowels and 4 consonants.\n"
          ]
        }
      ]
    },
    {
      "cell_type": "code",
      "source": [
        "%%writefile first_program.py\n",
        "import sys\n",
        "\n",
        "start = int(sys.argv[1])\n",
        "end = int(sys.argv[2])\n",
        "\n",
        "for i in range(start, end+1):\n",
        "    print(i)"
      ],
      "metadata": {
        "colab": {
          "base_uri": "https://localhost:8080/"
        },
        "id": "k1FOLn49YJxj",
        "outputId": "2e5c2639-d270-408b-8517-32e247175b2a"
      },
      "execution_count": 38,
      "outputs": [
        {
          "output_type": "stream",
          "name": "stdout",
          "text": [
            "Overwriting first_program.py\n"
          ]
        }
      ]
    },
    {
      "cell_type": "code",
      "source": [
        "%%writefile second_program.py\n",
        "import sys\n",
        "\n",
        "for line in sys.stdin:\n",
        "    number = int(line.strip())\n",
        "    if '3' in str(number):\n",
        "        print(number)\n"
      ],
      "metadata": {
        "colab": {
          "base_uri": "https://localhost:8080/"
        },
        "id": "WPw8VA3ZYceF",
        "outputId": "aa57b691-b5dc-4a54-e7bd-e572624b31a4"
      },
      "execution_count": 39,
      "outputs": [
        {
          "output_type": "stream",
          "name": "stdout",
          "text": [
            "Overwriting second_program.py\n"
          ]
        }
      ]
    },
    {
      "cell_type": "code",
      "source": [
        "!python first_program.py 1 100 | python second_program.py > output.csv"
      ],
      "metadata": {
        "id": "a4KGiuTpYpKb"
      },
      "execution_count": 41,
      "outputs": []
    },
    {
      "cell_type": "code",
      "source": [
        "import csv\n",
        "import calendar #  a convenient library for this task to do without dictionaries\n",
        "\n",
        "month_name = [calendar.month_name[i] for i in range(1, 13)]\n",
        "month_days = [calendar.monthrange(2024, i)[1] for i in range(1, 13)]\n",
        "rows = zip(month_name, month_days)\n",
        "with open('months_data.csv', mode='w', newline='') as file:\n",
        "    writer = csv.writer(file)\n",
        "    for row in rows:\n",
        "        writer.writerow(row)"
      ],
      "metadata": {
        "id": "MzUa9feubevi"
      },
      "execution_count": 88,
      "outputs": []
    },
    {
      "cell_type": "markdown",
      "metadata": {
        "id": "Ds4tIrq_Rii0"
      },
      "source": [
        "### Exercises\n",
        "\n",
        "5\\. Write the program the loads webpage https://kupav.github.io/data-sc-intro/dickens.html and find there a link to a wikipedia article about Charles Dickens.\n",
        "\n",
        "6\\. Find some news portal you like. Write the program that loads its main page and saves its full textual content to a file.\n",
        "\n",
        "7\\. Select a web site of any university. Write the program the finds its contacts and save them to a file."
      ]
    },
    {
      "cell_type": "code",
      "source": [
        "import requests\n",
        "from bs4 import BeautifulSoup\n",
        "\n",
        "url = 'https://kupav.github.io/data-sc-intro/dickens.html'\n",
        "response = requests.get(url)\n",
        "\n",
        "soup = BeautifulSoup(response.content, 'html.parser')\n",
        "\n",
        "for link in soup.find_all('a'):\n",
        "    if 'wikipedia.org' and 'Charles_Dickens' in link.get('href', ''):\n",
        "        wiki_link = link.get('href')\n",
        "        break\n",
        "print(f'Link to Wikipedia article about Charles Dickens: {wiki_link}')"
      ],
      "metadata": {
        "colab": {
          "base_uri": "https://localhost:8080/"
        },
        "id": "Ra7_K2bnjFKa",
        "outputId": "a028dc8c-430a-4218-a3e8-50efbce8ffed"
      },
      "execution_count": 52,
      "outputs": [
        {
          "output_type": "stream",
          "name": "stdout",
          "text": [
            "Link to Wikipedia article about Charles Dickens: https://en.wikipedia.org/wiki/Charles_Dickens\n"
          ]
        }
      ]
    },
    {
      "cell_type": "code",
      "source": [
        "import requests\n",
        "from bs4 import BeautifulSoup\n",
        "import csv\n",
        "\n",
        "url = 'https://en.wikipedia.org/wiki/Yevgeny_Zamyatin'\n",
        "\n",
        "response = requests.get(url)\n",
        "soup = BeautifulSoup(response.content, 'html.parser')\n",
        "content = soup.find(id='mw-content-text').get_text()\n",
        "\n",
        "with open('zamyatin_page_content.csv', mode='w', encoding='utf-8', newline='') as file:\n",
        "    writer = csv.writer(file)\n",
        "    writer.writerow([content])"
      ],
      "metadata": {
        "id": "0eqDbZGupxAf"
      },
      "execution_count": 54,
      "outputs": []
    },
    {
      "cell_type": "code",
      "source": [
        "import requests\n",
        "from bs4 import BeautifulSoup\n",
        "import csv\n",
        "\n",
        "url = 'https://www.upenn.edu/'\n",
        "response = requests.get(url)\n",
        "\n",
        "soup = BeautifulSoup(response.content, 'html.parser')\n",
        "contact_info = []\n",
        "\n",
        "address = soup.find_all('p', class_='footer__info')[0].text\n",
        "telephone = soup.find_all('p', class_='footer__info')[1].find('a').text\n",
        "contact_info.append(address)\n",
        "contact_info.append(telephone)\n",
        "\n",
        "with open('contact_info.csv', mode='w', newline='', encoding='utf-8') as file:\n",
        "    writer = csv.writer(file)\n",
        "    writer.writerow(contact_info)\n"
      ],
      "metadata": {
        "id": "O_TG_hp7rbb1"
      },
      "execution_count": 136,
      "outputs": []
    }
  ]
}