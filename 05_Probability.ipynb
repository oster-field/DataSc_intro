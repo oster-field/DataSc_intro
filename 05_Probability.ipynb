{
  "nbformat": 4,
  "nbformat_minor": 0,
  "metadata": {
    "colab": {
      "provenance": []
    },
    "kernelspec": {
      "name": "python3",
      "display_name": "Python 3"
    },
    "language_info": {
      "name": "python"
    }
  },
  "cells": [
    {
      "cell_type": "markdown",
      "metadata": {
        "id": "MaFEjTq8c2o2"
      },
      "source": [
        "### Exercises\n",
        "\n",
        "1\\. Rolling two dice find the probability that they land with an even sum of points on top and at least one die has six points.\n",
        "\n",
        "2\\. Consider a game where your score is the maximum value from two dice. Compute the probability of each event from 1 to 6.\n",
        "\n",
        "3\\. File \"abc_freq.txt\" that you can find at \"https://raw.githubusercontent.com/kupav/data-sc-intro/main/data/\" contains a comma separated sequence of symbols 'a', 'b', and 'c'. Write the program that downloads this file and converts it to a list of symbols. Then the program computes frequencies of the symbols and represent them as percentages. Correct resulting values will be integer. If not, you probably forget to remove newline symbols from the file.\n",
        "\n",
        "4\\. In this exercise you will estimate how smoking is related with some (imaginary) disease $D$. Imagine that 0.1% of the population have this disease. Also it is known that there are 13% of smoker in the population. Finally 30% of the diseased people smoke. Given this data draw a conclusion do smoking provoke the disease? To answer it find the percentage of the smokers that have this disease and then compare it with the marginal percentage of the diseased people."
      ]
    },
    {
      "cell_type": "code",
      "execution_count": null,
      "metadata": {
        "colab": {
          "base_uri": "https://localhost:8080/"
        },
        "id": "NGiYS4gec6sx",
        "outputId": "bbb83865-e284-4446-93b7-c464d1f14a44"
      },
      "outputs": [
        {
          "output_type": "stream",
          "name": "stdout",
          "text": [
            "Probability = 0.138741\n"
          ]
        }
      ],
      "source": [
        "#  Rolling two dice find the probability that they land with an even sum of points on top and at least one die has six points\n",
        "import random\n",
        "\n",
        "\n",
        "def check_event():\n",
        "    dice1 = random.randint(1, 6)\n",
        "    dice2 = random.randint(1, 6)\n",
        "    if (dice1 + dice2) % 2 == 0 and (dice1 == 6 or dice2 == 6):\n",
        "        return True\n",
        "    else:\n",
        "        return False\n",
        "\n",
        "\n",
        "def calculate_probability(num_rolls):\n",
        "    event_count = 0\n",
        "    for i in range(num_rolls):\n",
        "        if check_event():\n",
        "            event_count += 1\n",
        "    probability = event_count / num_rolls\n",
        "    return probability\n",
        "\n",
        "\n",
        "num_rolls = 1000000\n",
        "p = calculate_probability(num_rolls)\n",
        "print(f'Probability = {p}')"
      ]
    },
    {
      "cell_type": "code",
      "source": [
        "#  Consider a game where your score is the maximum value from two dice. Compute the probability of each event from 1 to 6\n",
        "import random\n",
        "\n",
        "\n",
        "def calculate_probabilities(num_rolls):\n",
        "    outcomes = [0] * 7\n",
        "    for i in range(num_rolls):\n",
        "        dice1 = random.randint(1, 6)\n",
        "        dice2 = random.randint(1, 6)\n",
        "        outcomes[max(dice1, dice2)] += 1\n",
        "    probabilities = [count / num_rolls for count in outcomes[1:]]\n",
        "    return probabilities\n",
        "\n",
        "\n",
        "num_rolls = 1000000\n",
        "p = calculate_probabilities(num_rolls)\n",
        "print('Probabilities:')\n",
        "for n in range(len(p)):\n",
        "  print(f'For {n+1} is {p[n]}')"
      ],
      "metadata": {
        "colab": {
          "base_uri": "https://localhost:8080/"
        },
        "id": "S5uqOKTtfC6g",
        "outputId": "dcd34333-089e-45cd-9182-bda6d6ebe278"
      },
      "execution_count": null,
      "outputs": [
        {
          "output_type": "stream",
          "name": "stdout",
          "text": [
            "Probabilities:\n",
            "For 1 is 0.027705\n",
            "For 2 is 0.083313\n",
            "For 3 is 0.138836\n",
            "For 4 is 0.194542\n",
            "For 5 is 0.249879\n",
            "For 6 is 0.305725\n"
          ]
        }
      ]
    },
    {
      "cell_type": "code",
      "source": [
        "#  File \"abc_freq.txt\" that you can find at \"https://raw.githubusercontent.com/kupav/data-sc-intro/main/data/\" contains a comma separated sequence of symbols 'a', 'b', and 'c'.\n",
        "#  Write the program that downloads this file and converts it to a list of symbols. Then the program computes frequencies of the symbols and represent them as percentages.\n",
        "#  Correct resulting values will be integer. If not, you probably forget to remove newline symbols from the file\n",
        "import requests\n",
        "\n",
        "\n",
        "def letter_counter(lis, letter):\n",
        "  counter = 0\n",
        "  for element in lis:\n",
        "    if element == letter:\n",
        "      counter += 1\n",
        "  return counter\n",
        "\n",
        "\n",
        "filename = 'abc_freq.txt'\n",
        "path = 'https://raw.githubusercontent.com/kupav/data-sc-intro/main/data/'\n",
        "data = requests.get(path + filename)\n",
        "assert data.status_code == 200\n",
        "text = data.text.split('\\n')\n",
        "data = []\n",
        "for string in text:\n",
        "  line = string.split(',')\n",
        "  for char in line:\n",
        "    if char != '':\n",
        "      data.append(char)\n",
        "print(f'Percentage of letter a: {100 * letter_counter(data, \"a\") / len(data)}')\n",
        "print(f'Percentage of letter b: {100 * letter_counter(data, \"b\") / len(data)}')\n",
        "print(f'Percentage of letter c: {100 * letter_counter(data, \"c\") / len(data)}')"
      ],
      "metadata": {
        "colab": {
          "base_uri": "https://localhost:8080/"
        },
        "id": "szxM5UGfgwK4",
        "outputId": "e65d0cc8-8f63-41db-c508-ad7d3ef1c18b"
      },
      "execution_count": null,
      "outputs": [
        {
          "output_type": "stream",
          "name": "stdout",
          "text": [
            "Percentage of letter a: 65.0\n",
            "Percentage of letter b: 15.0\n",
            "Percentage of letter c: 20.0\n"
          ]
        }
      ]
    },
    {
      "cell_type": "code",
      "source": [
        "#  In this exercise you will estimate how smoking is related with some (imaginary) disease  D . Imagine that 0.1% of the population have this disease. Also it is known that there are 13% of smoker in the population.\n",
        "#  Finally 30% of the diseased people smoke. Given this data draw a conclusion do smoking provoke the disease? To answer it find the percentage of the smokers that have this disease and then\n",
        "#  compare it with the marginal percentage of the diseased people.\n",
        "population_size = 100000  # Assuming a population of 100,000 for easier calculations\n",
        "disease_prevalence = 0.001  # 0.1% of the population have the disease\n",
        "smoking_prevalence = 0.13  # 13% of the population are smokers\n",
        "smoking_given_disease = 0.3  # 30% of the diseased people smoke\n",
        "\n",
        "# Number of people with disease and smoking\n",
        "diseased = int(population_size * disease_prevalence)\n",
        "smokers = int(population_size * smoking_prevalence)\n",
        "diseased_and_smoking = int(diseased * smoking_given_disease)\n",
        "\n",
        "# Percentage of smokers that have the disease\n",
        "percentage_smokers_with_disease = (diseased_and_smoking / smokers) * 100\n",
        "\n",
        "# Marginal percentage of diseased people\n",
        "marginal_percentage_diseased = (diseased / population_size) * 100\n",
        "\n",
        "# Conclusion: Compare the two percentages\n",
        "if percentage_smokers_with_disease > marginal_percentage_diseased:\n",
        "    print('Smoking is associated with a higher risk of the disease.')\n",
        "else:\n",
        "    print('Smoking is not strongly associated with the disease.')\n",
        "\n",
        "print(f'Percentage of smokers with the disease: {round(percentage_smokers_with_disease, 3)}%')\n",
        "print(f'Marginal percentage of diseased people: {round(marginal_percentage_diseased, 3)}%')"
      ],
      "metadata": {
        "colab": {
          "base_uri": "https://localhost:8080/"
        },
        "id": "_OeJqPKajTJ2",
        "outputId": "2d609129-f8cd-4266-bbfa-c6f953acb7ba"
      },
      "execution_count": null,
      "outputs": [
        {
          "output_type": "stream",
          "name": "stdout",
          "text": [
            "Smoking is associated with a higher risk of the disease.\n",
            "Percentage of smokers with the disease: 0.231%\n",
            "Marginal percentage of diseased people: 0.1%\n"
          ]
        }
      ]
    },
    {
      "cell_type": "markdown",
      "metadata": {
        "id": "r2NwQahVc2pA"
      },
      "source": [
        "### Exercises\n",
        "\n",
        "5\\. A random variable $x$ belongs to the interval between $0$ and $2$ and the probability that $x<x_1$ is proportional to $x_1^2$. Plot its CDF.\n",
        "\n",
        "6\\. In this exercise you have a random variable $x$ that belongs to the interval between 0 and 1 and its PDF is proportional to $x$. Plot the graph of this PDF. Do not forget about its proper normalization.\n",
        "\n",
        "7\\. File \"random_words.txt\" that you can find at \"https://raw.githubusercontent.com/kupav/data-sc-intro/main/data/\" contains the output of a random word generator. Its outcomes include six different words that are generated at random, one word per line. Write a program that downloads this file, reveals and print the words, and computes the related information entropy.\n",
        "\n",
        "8\\. Using cross-entropy compare two probability distributions\n",
        "\n",
        "$$\n",
        "Q_1 = 0.16, 0.19, 0.17, 0.15, 0.19, 0.14\n",
        "$$\n",
        "\n",
        "$$\n",
        "Q_2 = 0.13, 0.11, 0.14, 0.19, 0.21, 0.22\n",
        "$$\n",
        "\n",
        "designed to model rolling the die. Which one approximate the die better?"
      ]
    },
    {
      "cell_type": "code",
      "source": [
        "import numpy as np\n",
        "import matplotlib.pyplot as plt\n",
        "from sympy import *\n",
        "\n",
        "x = Symbol('x')\n",
        "k = Symbol('k')\n",
        "xmin = 0\n",
        "xmax = 2\n",
        "cdf_k = k * x**2\n",
        "print(f'CDF: {cdf_k}')\n",
        "k_value = solve(cdf_k.subs({x:2}) - 1, k)\n",
        "print(f'Condition on CDF value in point x=2 gives k={k_value[0]}')\n",
        "cdf = cdf_k.subs({k:k_value[0]})\n",
        "print(f'Then CDF = {cdf}')\n",
        "print(f'PDF = {diff(cdf, x)}')\n",
        "integral = integrate(diff(cdf, x), (x, xmin, xmax))\n",
        "print(f'Integlal of pdf = {integral}' + (', all correct') if integral == 1 else ', mistake')\n",
        "y = lambdify(x, cdf, 'numpy')\n",
        "x = np.arange(xmin - 1, xmax + 1, 0.01)\n",
        "F = np.zeros(len(x))\n",
        "for i in range(len(x)):\n",
        "  if xmin <= x[i] <= xmax:\n",
        "    F[i] = y(x[i])\n",
        "  elif x[i] > xmax:\n",
        "    F[i] = 1\n",
        "fig = plt.figure()\n",
        "ax = fig.add_subplot(111)\n",
        "ax.plot(x, F, color='#007439', linewidth=3)\n",
        "ax.set_xlabel('x', fontsize=10)\n",
        "ax.set_ylabel('CDF(x)', fontsize=10)\n",
        "ax.grid()\n",
        "plt.show()"
      ],
      "metadata": {
        "id": "Qy9mFQQ3r0ih",
        "colab": {
          "base_uri": "https://localhost:8080/",
          "height": 536
        },
        "outputId": "4bd53c7a-aad7-4b31-9dec-a32badfb14d1"
      },
      "execution_count": 37,
      "outputs": [
        {
          "output_type": "stream",
          "name": "stdout",
          "text": [
            "CDF: k*x**2\n",
            "Condition on CDF value in point x=2 gives k=1/4\n",
            "Then CDF = x**2/4\n",
            "PDF = x/2\n",
            "Integlal of pdf = 1, all correct\n"
          ]
        },
        {
          "output_type": "display_data",
          "data": {
            "text/plain": [
              "<Figure size 640x480 with 1 Axes>"
            ],
            "image/png": "[encoded data removed]"
          },
          "metadata": {}
        }
      ]
    },
    {
      "cell_type": "code",
      "source": [
        "import numpy as np\n",
        "import matplotlib.pyplot as plt\n",
        "from sympy import *\n",
        "\n",
        "x = Symbol('x')\n",
        "k = Symbol('k')\n",
        "xmin = 0\n",
        "xmax = 1\n",
        "pdf_k = k * x\n",
        "print(f'CDF: {pdf_k}')\n",
        "k_value = solve(integrate(pdf_k, (x, xmin, xmax)) - 1, k)\n",
        "print(f'Condition on PDF gives k={k_value[0]}')\n",
        "pdf = pdf_k.subs({k:k_value[0]})\n",
        "print(f'Then PDF = {pdf}')\n",
        "y = lambdify(x, pdf, 'numpy')\n",
        "x = np.arange(xmin - 1, xmax + 1, 0.01)\n",
        "F = np.zeros(len(x))\n",
        "for i in range(len(x)):\n",
        "  if xmin <= x[i] <= xmax:\n",
        "    F[i] = y(x[i])\n",
        "fig = plt.figure()\n",
        "ax = fig.add_subplot(111)\n",
        "ax.plot(x, F, color='#007439', linewidth=3)\n",
        "ax.set_xlabel('x', fontsize=10)\n",
        "ax.set_ylabel('PDF(x)', fontsize=10)\n",
        "ax.grid()\n",
        "plt.show()"
      ],
      "metadata": {
        "colab": {
          "base_uri": "https://localhost:8080/",
          "height": 501
        },
        "id": "e6tRahhVdkeA",
        "outputId": "448ba3d1-5361-421a-ed13-a41b28ab900f"
      },
      "execution_count": 38,
      "outputs": [
        {
          "output_type": "stream",
          "name": "stdout",
          "text": [
            "CDF: k*x\n",
            "Condition on PDF gives k=2\n",
            "Then PDF = 2*x\n"
          ]
        },
        {
          "output_type": "display_data",
          "data": {
            "text/plain": [
              "<Figure size 640x480 with 1 Axes>"
            ],
            "image/png": "[encoded data removed]"
          },
          "metadata": {}
        }
      ]
    },
    {
      "cell_type": "code",
      "source": [
        "import numpy as np\n",
        "import requests\n",
        "\n",
        "\n",
        "def entrop(P):\n",
        "    if P == 0.0 or P == 1.0:\n",
        "        return 0.0\n",
        "    else:\n",
        "        return -P * np.log(P) - (1 - P) * np.log(1 - P)\n",
        "\n",
        "\n",
        "filename = 'random_words.txt'\n",
        "path = 'https://raw.githubusercontent.com/kupav/data-sc-intro/main/data/'\n",
        "data = requests.get(path + filename)\n",
        "assert data.status_code == 200\n",
        "text = data.text.split('\\n')[:-1]\n",
        "words = set(text)\n",
        "probabilities = np.zeros(len(words))\n",
        "c = 0\n",
        "for word in words:\n",
        "    for element in text:\n",
        "        if element == word:\n",
        "            probabilities[c] += 1\n",
        "    c += 1\n",
        "probabilities /= len(text)\n",
        "c = 0\n",
        "for word in words:\n",
        "    print(f'Information enthropy of word {word} is {np.round(entrop(probabilities[c]), 3)}')\n",
        "    c += 1\n"
      ],
      "metadata": {
        "colab": {
          "base_uri": "https://localhost:8080/"
        },
        "id": "nHZqz56OkiPZ",
        "outputId": "9a97d946-f477-444f-a144-c7340c225edf"
      },
      "execution_count": 44,
      "outputs": [
        {
          "output_type": "stream",
          "name": "stdout",
          "text": [
            "Information enthropy of word whale is 0.673\n",
            "Information enthropy of word sea is 0.611\n",
            "Information enthropy of word red is 0.423\n",
            "Information enthropy of word never is 0.008\n",
            "Information enthropy of word adventure is 0.367\n",
            "Information enthropy of word run is 0.131\n"
          ]
        }
      ]
    },
    {
      "cell_type": "code",
      "source": [
        "import numpy as np\n",
        "\n",
        "\n",
        "def cross_ent(P, Q):\n",
        "    \"\"\"Cross-entropy\"\"\"\n",
        "    assert len(P) == len(Q)\n",
        "    assert abs(sum(P)-1) < 1e-10 and abs(sum(Q)-1) < 1e-10\n",
        "    return sum([-p * np.log(q) for p, q in zip(P, Q)])\n",
        "\n",
        "\n",
        "P = [1/6, 1/6, 1/6, 1/6, 1/6, 1/6]\n",
        "Q1 = [0.16,0.19,0.17,0.15,0.19,0.14]\n",
        "Q2 = [0.13,0.11,0.14,0.19,0.21,0.22]\n",
        "CE1 = cross_ent(P, Q1)\n",
        "CE2 = cross_ent(P, Q2)\n",
        "print(f\"Cross-entropy for P and Q1 {CE1:.5f}\")\n",
        "print(f\"Cross-entropy for P and Q2 {CE2:.5f}\")\n",
        "if CE1 < CE2:\n",
        "  print('Q1 approximates the die better')\n",
        "else:\n",
        "  print('Q2 approximates the die better')"
      ],
      "metadata": {
        "colab": {
          "base_uri": "https://localhost:8080/"
        },
        "id": "b2XUCCiYrcqz",
        "outputId": "aaf6be7e-c61f-4875-ed71-facc903abdc7"
      },
      "execution_count": 47,
      "outputs": [
        {
          "output_type": "stream",
          "name": "stdout",
          "text": [
            "Cross-entropy for P and Q1 1.79821\n",
            "Cross-entropy for P and Q2 1.82485\n",
            "Q1 approximates the die better\n"
          ]
        }
      ]
    }
  ]
}