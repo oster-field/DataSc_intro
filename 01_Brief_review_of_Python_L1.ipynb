{
  "nbformat": 4,
  "nbformat_minor": 0,
  "metadata": {
    "colab": {
      "provenance": []
    },
    "kernelspec": {
      "name": "python3",
      "display_name": "Python 3"
    },
    "language_info": {
      "name": "python"
    }
  },
  "cells": [
    {
      "cell_type": "markdown",
      "metadata": {
        "id": "I29xK7LNDIH3"
      },
      "source": [
        "1\\. In many jurisdictions a small deposit is added to drink containers to encourage people to recycle them. In one particular jurisdiction, drink containers holding one liter or less have a \\\\$0.10 deposit, and drink containers holding more than one liter have a \\\\$0.25 deposit. Write a program that reads the number of containers of each size from the user. Your program should continue by computing and displaying the refund that will be received for returning those containers. Format the output so that it includes a dollar sign and two digits to the right of the decimal point."
      ]
    },
    {
      "cell_type": "code",
      "execution_count": 5,
      "metadata": {
        "id": "QfrN3ipacUKU",
        "colab": {
          "base_uri": "https://localhost:8080/"
        },
        "outputId": "81090965-bcfa-4ba9-97c8-7f29d2605350"
      },
      "outputs": [
        {
          "output_type": "stream",
          "name": "stdout",
          "text": [
            "How many containers holding one liter or less?\n",
            "0\n",
            "How many containers holding more than one liter?\n",
            "1\n",
            "The refund that will be received for returning those containers: $0.25\n"
          ]
        }
      ],
      "source": [
        "print('How many containers holding one liter or less?')\n",
        "usr_input1 = input()\n",
        "print('How many containers holding more than one liter?')\n",
        "usr_input2 = input()\n",
        "one_or_less = int(usr_input1)\n",
        "more_then_one = int(usr_input2)\n",
        "print(f'The refund that will be received for returning those containers: ${(one_or_less * 0.1 + more_then_one * 0.25):.2f}')"
      ]
    },
    {
      "cell_type": "markdown",
      "metadata": {
        "id": "eProwrZbDIH3"
      },
      "source": [
        "2\\. The program that you create for this exercise will begin by reading the cost of a meal ordered at a restaurant from the user. Then your program will compute the tax and tip for the meal. Use your local tax rate when computing the amount of tax owing. Compute the tip as 18 percent of the meal amount (without the tax). The output from your program should include the tax amount, the tip amount, and the grand total for the meal including both the tax and the tip. Format the output so that all of the values are displayed using two decimal places."
      ]
    },
    {
      "cell_type": "code",
      "source": [
        "print('The cost of a meal ordered at a restaurant:', end=' ')\n",
        "cost = float(input())\n",
        "tip_rate = 0.18\n",
        "tax_rate = 0.2\n",
        "print(f'Tax amount: {(cost * tax_rate):.2f}')\n",
        "print(f'Tip amount: {(cost * tip_rate):.2f}')\n",
        "print(f'Grand total: {(cost * (1 + tax_rate + tip_rate)):.2f}')"
      ],
      "metadata": {
        "colab": {
          "base_uri": "https://localhost:8080/"
        },
        "id": "q6y7YMBTJvXX",
        "outputId": "3d9dbc11-19ea-4e86-e2ba-58233a8048c3"
      },
      "execution_count": 11,
      "outputs": [
        {
          "output_type": "stream",
          "name": "stdout",
          "text": [
            "The cost of a meal ordered at a restaurant: 3\n",
            "Tax amount: 0.60\n",
            "Tip amount: 0.54\n",
            "Grand total: 4.14\n"
          ]
        }
      ]
    },
    {
      "cell_type": "markdown",
      "metadata": {
        "id": "cB2UZBFwDIH3"
      },
      "source": [
        "3\\. Write a program that reads a positive integer, n, from the user and then displays the sum of all of the integers from 1 to n. The sum of the first n positive integers can be\n",
        "\n",
        "$$S = \\frac{n(n+1)}{2}$$"
      ]
    },
    {
      "cell_type": "code",
      "source": [
        "print('Please inter a positive integer number:', end=' ')\n",
        "n = int(input())\n",
        "print(f'The sum of first {n} positive integers is {int(n * (n + 1) / 2)}')"
      ],
      "metadata": {
        "colab": {
          "base_uri": "https://localhost:8080/"
        },
        "id": "jYGw1-2OLkmp",
        "outputId": "431a1208-3f73-4763-e211-8448b435fa03"
      },
      "execution_count": 18,
      "outputs": [
        {
          "output_type": "stream",
          "name": "stdout",
          "text": [
            "Please inter a positive integer number: 1984\n",
            "The sum of first 1984 positive integers is 1969120\n"
          ]
        }
      ]
    },
    {
      "cell_type": "markdown",
      "metadata": {
        "id": "PShNmLX4DIH3"
      },
      "source": [
        "4\\. Pretend that you have just opened a new savings account that earns 4 percent interest per year. The interest that you earn is paid at the end of the year, and is added to the balance of the savings account. Write a program that begins by reading the amount of money deposited into the account from the user. Then your program should compute and display the amount in the savings account after 1, 2, and 3 years. Display each amount so that it is rounded to 2 decimal places."
      ]
    },
    {
      "cell_type": "code",
      "source": [
        "print('Please inter the amount of money deposited into the account:', end=' ')\n",
        "year0 = float(input())\n",
        "p = 0.04\n",
        "year1 = year0 * (1 + p)\n",
        "year2 = year1 * (1 + p)\n",
        "year3 = year2 * (1 + p)\n",
        "print(f'The amount in the savings account after 1 year: {(year1):.2f}')\n",
        "print(f'The amount in the savings account after 2 years: {(year2):.2f}')\n",
        "print(f'The amount in the savings account after 3 years: {(year3):.2f}')"
      ],
      "metadata": {
        "colab": {
          "base_uri": "https://localhost:8080/"
        },
        "id": "NTMqG3QeM1Im",
        "outputId": "ee05b6c0-bec5-454b-b119-f717feccc420"
      },
      "execution_count": 17,
      "outputs": [
        {
          "output_type": "stream",
          "name": "stdout",
          "text": [
            "Please inter the amount of money deposited into the account: 300000\n",
            "The amount in the savings account after 1 year: 312000.00\n",
            "The amount in the savings account after 2 years: 324480.00\n",
            "The amount in the savings account after 3 years: 337459.20\n"
          ]
        }
      ]
    },
    {
      "cell_type": "markdown",
      "metadata": {
        "id": "X3_9ctyVDIH3"
      },
      "source": [
        "5\\. In the United States, fuel efficiency for vehicles is normally expressed in miles-per-gallon (MPG). In Canada, fuel efficiency is normally expressed in liters-per-hundred kilometers (L/100km). Use your research skills to determine how to convert from MPG to L/100km.Then create a program that reads a value from the user in American units and displays the equivalent fuel efficiency in Canadian units."
      ]
    },
    {
      "cell_type": "code",
      "source": [
        "print('Value in American units:', end=' ')\n",
        "american = float(input())\n",
        "print(f'Value in Canadian units: {235.214583 / american}')"
      ],
      "metadata": {
        "colab": {
          "base_uri": "https://localhost:8080/"
        },
        "id": "PpxWMKpPOENT",
        "outputId": "406a173a-0d18-4d08-c9b8-c963bb732c1d"
      },
      "execution_count": 19,
      "outputs": [
        {
          "output_type": "stream",
          "name": "stdout",
          "text": [
            "Value in American units: 20\n",
            "Value in Canadian units: 11.76072915\n"
          ]
        }
      ]
    },
    {
      "cell_type": "markdown",
      "metadata": {
        "id": "LnIQmjvHDIH3"
      },
      "source": [
        "6\\. The surface of the Earth is curved, and the distance between degrees of longitude\n",
        "varies with latitude. As a result, finding the distance between two points on the surface\n",
        "of the Earth is more complicated than simply using the Pythagorean theorem.\n",
        "\n",
        "Let ($t_1$, $g_1$) and ($t_2$ , $g_2$) be the latitude and longitude of two points on the Earth’s surface. The distance between these points, following the surface of the Earth, in\n",
        "kilometers is:\n",
        "\n",
        "$$\n",
        "D = 6371.01 \\arccos(\\sin t_1 \\sin t_2 + \\cos t_1 \\cos t_2 \\cos(g_1-g_2))\n",
        "$$\n",
        "\n",
        "*The value 6371.01 in the previous equation wasn’t selected at random. It is the\n",
        "average radius of the Earth in kilometers.*\n",
        "\n",
        "Create a program that allows the user to enter the latitude and longitude of two\n",
        "points on the Earth in degrees. Your program should display the distance between\n",
        "the points, following the surface of the earth, in kilometers.\n",
        "\n",
        "*Hint: Python’s trigonometric functions operate in radians. As a result, you will\n",
        "need to convert the user’s input from degrees to radians before computing the\n",
        "distance with the formula discussed previously. The `math` module as well as `numpy`\n",
        "contains a function named radians which converts from degrees to radians.*"
      ]
    },
    {
      "cell_type": "code",
      "source": [
        "import numpy as np\n",
        "\n",
        "print('latitude of 1-st point: ', end=' ')\n",
        "t1 = np.radians(float(input()))\n",
        "print('longitude of 1-st point: ', end=' ')\n",
        "g1 = np.radians(float(input()))\n",
        "print('latitude of 2-nd point: ', end=' ')\n",
        "t2 = np.radians(float(input()))\n",
        "print('longitude of 2-nd point: ', end=' ')\n",
        "g2 = np.radians(float(input()))\n",
        "d = 6371.01 * np.arccos(np.sin(t1) * np.sin(t2) + np.cos(t1) * np.cos(t2) * np.cos(g1 - g2))\n",
        "print(f'Distance is {round(d, 2)} km')"
      ],
      "metadata": {
        "colab": {
          "base_uri": "https://localhost:8080/"
        },
        "id": "3zbSSgsbPTy3",
        "outputId": "b889bac2-50bc-49f8-f2a1-aaaf2ceac0f5"
      },
      "execution_count": 23,
      "outputs": [
        {
          "output_type": "stream",
          "name": "stdout",
          "text": [
            "latitude of 1-st point:  45\n",
            "longitude of 1-st point:  75\n",
            "latitude of 2-nd point:  18\n",
            "longitude of 2-nd point:  9\n",
            "Distance is 6730.13 km\n"
          ]
        }
      ]
    },
    {
      "cell_type": "markdown",
      "metadata": {
        "id": "xxHTOy_6DIH4"
      },
      "source": [
        "7\\. Many people think about their height in feet and inches, even in some countries that\n",
        "primarily use the metric system. Write a program that reads a number of feet from\n",
        "the user, followed by a number of inches. Once these values are read, your program\n",
        "should compute and display the equivalent number of centimeters.\n",
        "\n",
        "*Hint: One foot is 12 inches. One inch is 2.54 centimeters.*"
      ]
    },
    {
      "cell_type": "code",
      "source": [
        "print('Number of feet: ', end=' ')\n",
        "ft = float(input())\n",
        "print('Number of inches: ', end=' ')\n",
        "inch = float(input())\n",
        "print(f'In centimeters: {round(((ft * 12 + inch) * 2.54), 2)} cm')"
      ],
      "metadata": {
        "colab": {
          "base_uri": "https://localhost:8080/"
        },
        "id": "l2vTnUprRdup",
        "outputId": "1c338436-e1ba-4c22-904f-12ac6ecf2f46"
      },
      "execution_count": 24,
      "outputs": [
        {
          "output_type": "stream",
          "name": "stdout",
          "text": [
            "Number of feet:  6\n",
            "Number of inches:  5\n",
            "In centimeters: 195.58 cm\n"
          ]
        }
      ]
    },
    {
      "cell_type": "markdown",
      "metadata": {
        "id": "WYwnpjxJDIH4"
      },
      "source": [
        "8\\. Write a program that begins by reading a radius, $r$, from the user. The program will\n",
        "continue by computing and displaying the area of a circle with radius $r$ and the\n",
        "volume of a sphere with radius $r$. Use the pi constant in the `math` or `numpy` modules in your calculations. Use Internet to look up the necessary formula if you don't have them memorized."
      ]
    },
    {
      "cell_type": "code",
      "source": [
        "import numpy as np\n",
        "\n",
        "print('r = ', end='')\n",
        "r = float(input())\n",
        "print(f'The area of a circle with radius {r}: {round(np.pi * r**2, 2)}')\n",
        "print(f'The volume of a sphere with radius {r}: {round((4/3) * np.pi * r**3, 2)}')"
      ],
      "metadata": {
        "colab": {
          "base_uri": "https://localhost:8080/"
        },
        "id": "5YhJX7m-SnGM",
        "outputId": "ee4ebece-c522-4b5d-d855-bc33981aebb8"
      },
      "execution_count": 30,
      "outputs": [
        {
          "output_type": "stream",
          "name": "stdout",
          "text": [
            "r = 3.1415\n",
            "The area of a circle with radius 3.1415: 31.0\n",
            "The volume of a sphere with radius 3.1415: 129.87\n"
          ]
        }
      ]
    },
    {
      "cell_type": "markdown",
      "metadata": {
        "id": "GzJ4cPnuDIH4"
      },
      "source": [
        "9\\. Python’s `time` module includes several time-related functions. One of these is the\n",
        "`asctime` function which reads the current time from the computer’s internal clock\n",
        "and returns it in a human-readable format. Use this function to write a program that\n",
        "displays the current time and date. Your program will not require any input from the\n",
        "user."
      ]
    },
    {
      "cell_type": "code",
      "source": [
        "from datetime import *\n",
        "print(f'Current time and date: {datetime.now()}')"
      ],
      "metadata": {
        "colab": {
          "base_uri": "https://localhost:8080/"
        },
        "id": "5bmUF-pYT8fh",
        "outputId": "ead5f28f-48e1-4953-c7e0-2739a41abc41"
      },
      "execution_count": 37,
      "outputs": [
        {
          "output_type": "stream",
          "name": "stdout",
          "text": [
            "Current time and date: 2024-03-13 10:22:07.187013\n"
          ]
        }
      ]
    },
    {
      "cell_type": "markdown",
      "metadata": {
        "id": "Zf8drHRbDIH4"
      },
      "source": [
        "10\\. When the wind blows in cold weather, the air feels even colder than it actually is\n",
        "because the movement of the air increases the rate of cooling for warm objects, like\n",
        "people. This effect is known as wind chill.\n",
        "\n",
        "In 2001, Canada, the United Kingdom and the United States adopted the following formula for computing the wind chill index. Within the formula $T_a$ is the air temperature in degrees Celsius and $V$ is the wind speed in kilometers per hour. A similar formula with different constant values can be used for temperatures in degrees Fahrenheit and wind speeds in miles per hour.\n",
        "\n",
        "$$\n",
        "WCI = 13.12 + 0.6215 T_a − 11.37 V^{0.16} + 0.3965 T_a V^{0.16}\n",
        "$$\n",
        "\n",
        "Write a program that begins by reading the air temperature and wind speed from the\n",
        "user. Once these values have been read your program should display the wind chill\n",
        "index rounded to the closest integer.\n",
        "\n",
        "_The wind chill index is only considered valid for temperatures less than or\n",
        "equal to 10 degrees Celsius and wind speeds exceeding 4.8 kilometers per\n",
        "hour._"
      ]
    },
    {
      "cell_type": "code",
      "source": [
        "print('Temperature (in Celsius): ', end='')\n",
        "t = float(input()) * 1.8 + 32\n",
        "print('Wind speed (kph): ', end='')\n",
        "v = float(input()) / 1.609344\n",
        "print(f'WCI = {int(13.12 + 0.6215 * t - 11.37 * v**(0.16) + 0.3965 * t * v**(0.16))}')"
      ],
      "metadata": {
        "colab": {
          "base_uri": "https://localhost:8080/"
        },
        "id": "EFllzbHDVgNV",
        "outputId": "7664112e-1d9b-4ddb-9c04-ffcd59d32265"
      },
      "execution_count": 39,
      "outputs": [
        {
          "output_type": "stream",
          "name": "stdout",
          "text": [
            "Temperature (in Celsius): -10\n",
            "Wind speed (kph): 5\n",
            "WCI = 14\n"
          ]
        }
      ]
    },
    {
      "cell_type": "markdown",
      "metadata": {
        "id": "D7FOX3VSDIH5"
      },
      "source": [
        "11\\. Develop a program that reads a four-digit integer from the user and displays the sum\n",
        "of its digits. For example, if the user enters `3141` then your program should display\n",
        "`3 + 1 + 4 + 1 = 9`."
      ]
    },
    {
      "cell_type": "code",
      "source": [
        "print('Please inter a four-digit integer:', end=' ')\n",
        "n = input()\n",
        "sum = 0\n",
        "for i in range(4):\n",
        "  sum += int(n[i])\n",
        "  if i == 3:\n",
        "    print(n[i], end=' = ')\n",
        "  else:\n",
        "    print(n[i], end=' + ')\n",
        "print(sum)"
      ],
      "metadata": {
        "colab": {
          "base_uri": "https://localhost:8080/"
        },
        "id": "_k7ZgjgpXfMq",
        "outputId": "fd21684b-2434-4f74-96ec-01b509864f7d"
      },
      "execution_count": 46,
      "outputs": [
        {
          "output_type": "stream",
          "name": "stdout",
          "text": [
            "Please inter a four-digit integer: 1111\n",
            "1 + 1 + 1 + 1 = 4\n"
          ]
        }
      ]
    },
    {
      "cell_type": "markdown",
      "metadata": {
        "id": "QRf_YKCuDIH5"
      },
      "source": [
        "12\\. Create a program that reads three integers from the user and displays them in sorted\n",
        "order (from smallest to largest). Use the `min` and `max` functions to find the smallest\n",
        "and largest values. The middle value can be found by computing the sum of all three\n",
        "values, and then subtracting the minimum value and the maximum value."
      ]
    },
    {
      "cell_type": "code",
      "source": [
        "print('Please inter three integers:')\n",
        "print('First:', end=' ')\n",
        "n1 = int(input())\n",
        "print('Second:', end=' ')\n",
        "n2 = int(input())\n",
        "print('Third:', end=' ')\n",
        "n3 = int(input())\n",
        "print(f'This numbers in sorted order: {min(n1, n2, n3)}, {n1 + n2 + n3 - min(n1, n2, n3) - max(n1, n2, n3)}, {max(n1, n2, n3)}')"
      ],
      "metadata": {
        "colab": {
          "base_uri": "https://localhost:8080/"
        },
        "id": "cnSU7GvJZAAg",
        "outputId": "68629a1f-5e2e-4d5d-ce33-95c00438f3f6"
      },
      "execution_count": 49,
      "outputs": [
        {
          "output_type": "stream",
          "name": "stdout",
          "text": [
            "Please inter three integers:\n",
            "First: 99\n",
            "Second: 1\n",
            "Third: 5\n",
            "This numbers in sorted order: 1, 5, 99\n"
          ]
        }
      ]
    },
    {
      "cell_type": "markdown",
      "metadata": {
        "id": "0sK-wXIPDIH5"
      },
      "source": [
        "13\\. A bakery sells loaves of bread for \\$3.49 each. Day old bread is discounted by 60\n",
        "percent. Write a program that begins by reading the number of loaves of day old\n",
        "bread being purchased from the user. Then your program should display the regular\n",
        "price for the bread, the discount because it is a day old, and the total price. Each of\n",
        "these amounts should be displayed on its own line with an appropriate label. All of\n",
        "the values should be displayed using two decimal places, and the decimal points in\n",
        "all of the numbers should be aligned when reasonable values are entered by the user."
      ]
    },
    {
      "cell_type": "code",
      "source": [
        "regular_cost = 3.49\n",
        "discount = 0.4\n",
        "try:\n",
        "    n = int(input('The number of loaves of day old bread: '))\n",
        "    if n <= 0:\n",
        "        raise ValueError('This is negative value')\n",
        "    else:\n",
        "      print(f'Regular price of the bread: ${round(regular_cost * n, 2)}')\n",
        "      print(f'Discount: ${round(discount * regular_cost * n, 2)}')\n",
        "      print(f'Total price: ${round(regular_cost * n * (1 - discount), 2)}')\n",
        "except ValueError as error:\n",
        "    print(error)"
      ],
      "metadata": {
        "colab": {
          "base_uri": "https://localhost:8080/"
        },
        "id": "zG3-TEzsaHed",
        "outputId": "04a4eec4-ae9a-44f8-a68b-450a83380bfd"
      },
      "execution_count": 61,
      "outputs": [
        {
          "output_type": "stream",
          "name": "stdout",
          "text": [
            "The number of loaves of day old bread: 45\n",
            "Regular price of the bread: $157.05\n",
            "Discount: $62.82\n",
            "Total price: $94.23\n"
          ]
        }
      ]
    }
  ]
}